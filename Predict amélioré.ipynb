{
 "cells": [
  {
   "cell_type": "markdown",
   "id": "e32e9f31",
   "metadata": {},
   "source": [
    "# Importation librairies"
   ]
  },
  {
   "cell_type": "markdown",
   "id": "6c0667c9",
   "metadata": {},
   "source": [
    "## Pycaret"
   ]
  },
  {
   "cell_type": "code",
   "execution_count": null,
   "id": "a04bee8f",
   "metadata": {},
   "outputs": [],
   "source": [
    "pip install -U pycaret scikit-learn"
   ]
  },
  {
   "cell_type": "markdown",
   "id": "c8007dd5",
   "metadata": {},
   "source": [
    "## Librairies"
   ]
  },
  {
   "cell_type": "code",
   "execution_count": 30,
   "id": "c4982f56",
   "metadata": {},
   "outputs": [],
   "source": [
    "import pandas as pd\n",
    "import numpy as np\n",
    "import matplotlib.pyplot as plt\n",
    "import seaborn as sns\n",
    "import plotly.express as px\n",
    "import plotly.io as pio"
   ]
  },
  {
   "cell_type": "markdown",
   "id": "863c5927",
   "metadata": {},
   "source": [
    "## Tables"
   ]
  },
  {
   "cell_type": "code",
   "execution_count": 5,
   "id": "1fcda2aa",
   "metadata": {},
   "outputs": [],
   "source": [
    "df_train_men = pd.read_excel(\"df_train_men.xlsx\")\n",
    "df_train_women = pd.read_excel(\"df_train_women.xlsx\")\n",
    "df_predict_men = pd.read_excel(\"df_predict_men.xlsx\")\n",
    "df_predict_men = pd.read_excel(\"df_predict_men.xlsx\")"
   ]
  },
  {
   "cell_type": "code",
   "execution_count": 308,
   "id": "bd2dc867",
   "metadata": {},
   "outputs": [],
   "source": [
    "df_train_men_full = pd.read_excel(\"df_train_men_full.xlsx\")"
   ]
  },
  {
   "cell_type": "code",
   "execution_count": 309,
   "id": "62e1d2da",
   "metadata": {},
   "outputs": [],
   "source": [
    "df_predict_men_full = pd.read_excel(\"df_predict_men_full.xlsx\")"
   ]
  },
  {
   "cell_type": "code",
   "execution_count": 280,
   "id": "818c1fe7",
   "metadata": {},
   "outputs": [],
   "source": [
    "df_fighter = pd.read_excel(\"fighters_clean.xlsx\")"
   ]
  },
  {
   "cell_type": "code",
   "execution_count": 281,
   "id": "3170846e",
   "metadata": {},
   "outputs": [],
   "source": [
    "df_fighter= df_fighter[['fighter_id','name']]"
   ]
  },
  {
   "cell_type": "markdown",
   "id": "4fedff32",
   "metadata": {},
   "source": [
    "# PREPARATION DES DATAFRAME"
   ]
  },
  {
   "cell_type": "markdown",
   "id": "91ad57c4",
   "metadata": {},
   "source": [
    "## Ajout du win ratio"
   ]
  },
  {
   "cell_type": "code",
   "execution_count": 310,
   "id": "2fd77a37",
   "metadata": {},
   "outputs": [],
   "source": [
    "df_train_m = pd.concat([df_train_men_full, df_predict_men_full], ignore_index=True)"
   ]
  },
  {
   "cell_type": "code",
   "execution_count": null,
   "id": "097f7476",
   "metadata": {},
   "outputs": [],
   "source": [
    "df_train_m.info()"
   ]
  },
  {
   "cell_type": "code",
   "execution_count": 312,
   "id": "d110de2b",
   "metadata": {},
   "outputs": [
    {
     "data": {
      "text/html": [
       "<div>\n",
       "<style scoped>\n",
       "    .dataframe tbody tr th:only-of-type {\n",
       "        vertical-align: middle;\n",
       "    }\n",
       "\n",
       "    .dataframe tbody tr th {\n",
       "        vertical-align: top;\n",
       "    }\n",
       "\n",
       "    .dataframe thead th {\n",
       "        text-align: right;\n",
       "    }\n",
       "</style>\n",
       "<table border=\"1\" class=\"dataframe\">\n",
       "  <thead>\n",
       "    <tr style=\"text-align: right;\">\n",
       "      <th></th>\n",
       "      <th>date</th>\n",
       "      <th>fighter</th>\n",
       "      <th>fight_count</th>\n",
       "      <th>win</th>\n",
       "      <th>fights_won</th>\n",
       "      <th>win_ratio</th>\n",
       "    </tr>\n",
       "  </thead>\n",
       "  <tbody>\n",
       "    <tr>\n",
       "      <th>2849</th>\n",
       "      <td>2016-04-10</td>\n",
       "      <td>Curtis Blaydes</td>\n",
       "      <td>1</td>\n",
       "      <td>0</td>\n",
       "      <td>0</td>\n",
       "      <td>0.000000</td>\n",
       "    </tr>\n",
       "    <tr>\n",
       "      <th>2850</th>\n",
       "      <td>2016-10-01</td>\n",
       "      <td>Curtis Blaydes</td>\n",
       "      <td>2</td>\n",
       "      <td>1</td>\n",
       "      <td>1</td>\n",
       "      <td>0.500000</td>\n",
       "    </tr>\n",
       "    <tr>\n",
       "      <th>2851</th>\n",
       "      <td>2017-02-04</td>\n",
       "      <td>Curtis Blaydes</td>\n",
       "      <td>3</td>\n",
       "      <td>0</td>\n",
       "      <td>1</td>\n",
       "      <td>0.333333</td>\n",
       "    </tr>\n",
       "    <tr>\n",
       "      <th>2852</th>\n",
       "      <td>2017-07-08</td>\n",
       "      <td>Curtis Blaydes</td>\n",
       "      <td>4</td>\n",
       "      <td>1</td>\n",
       "      <td>2</td>\n",
       "      <td>0.500000</td>\n",
       "    </tr>\n",
       "    <tr>\n",
       "      <th>2853</th>\n",
       "      <td>2017-11-04</td>\n",
       "      <td>Curtis Blaydes</td>\n",
       "      <td>5</td>\n",
       "      <td>1</td>\n",
       "      <td>3</td>\n",
       "      <td>0.600000</td>\n",
       "    </tr>\n",
       "    <tr>\n",
       "      <th>2854</th>\n",
       "      <td>2018-02-10</td>\n",
       "      <td>Curtis Blaydes</td>\n",
       "      <td>6</td>\n",
       "      <td>1</td>\n",
       "      <td>4</td>\n",
       "      <td>0.666667</td>\n",
       "    </tr>\n",
       "    <tr>\n",
       "      <th>2855</th>\n",
       "      <td>2018-06-09</td>\n",
       "      <td>Curtis Blaydes</td>\n",
       "      <td>7</td>\n",
       "      <td>1</td>\n",
       "      <td>5</td>\n",
       "      <td>0.714286</td>\n",
       "    </tr>\n",
       "    <tr>\n",
       "      <th>2856</th>\n",
       "      <td>2018-11-24</td>\n",
       "      <td>Curtis Blaydes</td>\n",
       "      <td>8</td>\n",
       "      <td>0</td>\n",
       "      <td>5</td>\n",
       "      <td>0.625000</td>\n",
       "    </tr>\n",
       "    <tr>\n",
       "      <th>2857</th>\n",
       "      <td>2019-03-23</td>\n",
       "      <td>Curtis Blaydes</td>\n",
       "      <td>9</td>\n",
       "      <td>1</td>\n",
       "      <td>6</td>\n",
       "      <td>0.666667</td>\n",
       "    </tr>\n",
       "    <tr>\n",
       "      <th>2858</th>\n",
       "      <td>2019-09-07</td>\n",
       "      <td>Curtis Blaydes</td>\n",
       "      <td>10</td>\n",
       "      <td>1</td>\n",
       "      <td>7</td>\n",
       "      <td>0.700000</td>\n",
       "    </tr>\n",
       "    <tr>\n",
       "      <th>2859</th>\n",
       "      <td>2020-01-25</td>\n",
       "      <td>Curtis Blaydes</td>\n",
       "      <td>11</td>\n",
       "      <td>1</td>\n",
       "      <td>8</td>\n",
       "      <td>0.727273</td>\n",
       "    </tr>\n",
       "    <tr>\n",
       "      <th>2860</th>\n",
       "      <td>2020-06-20</td>\n",
       "      <td>Curtis Blaydes</td>\n",
       "      <td>12</td>\n",
       "      <td>1</td>\n",
       "      <td>9</td>\n",
       "      <td>0.750000</td>\n",
       "    </tr>\n",
       "    <tr>\n",
       "      <th>2861</th>\n",
       "      <td>2021-02-20</td>\n",
       "      <td>Curtis Blaydes</td>\n",
       "      <td>13</td>\n",
       "      <td>0</td>\n",
       "      <td>9</td>\n",
       "      <td>0.692308</td>\n",
       "    </tr>\n",
       "    <tr>\n",
       "      <th>2862</th>\n",
       "      <td>2021-09-25</td>\n",
       "      <td>Curtis Blaydes</td>\n",
       "      <td>14</td>\n",
       "      <td>1</td>\n",
       "      <td>10</td>\n",
       "      <td>0.714286</td>\n",
       "    </tr>\n",
       "    <tr>\n",
       "      <th>2863</th>\n",
       "      <td>2022-03-26</td>\n",
       "      <td>Curtis Blaydes</td>\n",
       "      <td>15</td>\n",
       "      <td>1</td>\n",
       "      <td>11</td>\n",
       "      <td>0.733333</td>\n",
       "    </tr>\n",
       "    <tr>\n",
       "      <th>2864</th>\n",
       "      <td>2022-07-23</td>\n",
       "      <td>Curtis Blaydes</td>\n",
       "      <td>16</td>\n",
       "      <td>1</td>\n",
       "      <td>12</td>\n",
       "      <td>0.750000</td>\n",
       "    </tr>\n",
       "    <tr>\n",
       "      <th>2865</th>\n",
       "      <td>2023-04-22</td>\n",
       "      <td>Curtis Blaydes</td>\n",
       "      <td>17</td>\n",
       "      <td>0</td>\n",
       "      <td>12</td>\n",
       "      <td>0.705882</td>\n",
       "    </tr>\n",
       "    <tr>\n",
       "      <th>2866</th>\n",
       "      <td>2024-03-09</td>\n",
       "      <td>Curtis Blaydes</td>\n",
       "      <td>18</td>\n",
       "      <td>1</td>\n",
       "      <td>13</td>\n",
       "      <td>0.722222</td>\n",
       "    </tr>\n",
       "    <tr>\n",
       "      <th>2867</th>\n",
       "      <td>2024-07-27</td>\n",
       "      <td>Curtis Blaydes</td>\n",
       "      <td>18</td>\n",
       "      <td>0</td>\n",
       "      <td>13</td>\n",
       "      <td>0.722222</td>\n",
       "    </tr>\n",
       "  </tbody>\n",
       "</table>\n",
       "</div>"
      ],
      "text/plain": [
       "           date         fighter  fight_count  win  fights_won  win_ratio\n",
       "2849 2016-04-10  Curtis Blaydes            1    0           0   0.000000\n",
       "2850 2016-10-01  Curtis Blaydes            2    1           1   0.500000\n",
       "2851 2017-02-04  Curtis Blaydes            3    0           1   0.333333\n",
       "2852 2017-07-08  Curtis Blaydes            4    1           2   0.500000\n",
       "2853 2017-11-04  Curtis Blaydes            5    1           3   0.600000\n",
       "2854 2018-02-10  Curtis Blaydes            6    1           4   0.666667\n",
       "2855 2018-06-09  Curtis Blaydes            7    1           5   0.714286\n",
       "2856 2018-11-24  Curtis Blaydes            8    0           5   0.625000\n",
       "2857 2019-03-23  Curtis Blaydes            9    1           6   0.666667\n",
       "2858 2019-09-07  Curtis Blaydes           10    1           7   0.700000\n",
       "2859 2020-01-25  Curtis Blaydes           11    1           8   0.727273\n",
       "2860 2020-06-20  Curtis Blaydes           12    1           9   0.750000\n",
       "2861 2021-02-20  Curtis Blaydes           13    0           9   0.692308\n",
       "2862 2021-09-25  Curtis Blaydes           14    1          10   0.714286\n",
       "2863 2022-03-26  Curtis Blaydes           15    1          11   0.733333\n",
       "2864 2022-07-23  Curtis Blaydes           16    1          12   0.750000\n",
       "2865 2023-04-22  Curtis Blaydes           17    0          12   0.705882\n",
       "2866 2024-03-09  Curtis Blaydes           18    1          13   0.722222\n",
       "2867 2024-07-27  Curtis Blaydes           18    0          13   0.722222"
      ]
     },
     "execution_count": 312,
     "metadata": {},
     "output_type": "execute_result"
    }
   ],
   "source": [
    "#Calcul des win pour win_rate\n",
    "# nombre de wins et de combats à la date du combat\n",
    "df_train_m = df_train_m.sort_values(by='date')\n",
    "df_train_m['fights_won'] = df_train_m.groupby('fighter')['win'].cumsum()\n",
    "df_train_m['fight_count'] = df_train_m.groupby('fighter').cumcount() + 1\n",
    "\n",
    "# Pour la colonne fight_count :avoir seulement la dernière valeur pour les dates sup ou égales au 1-06-2024\n",
    "\n",
    "def fill_last_fight_count(df):\n",
    "    max_date = '2024-06-01'\n",
    "    last_value = df.loc[df['date'] <= max_date, 'fight_count'].iloc[-1] if not df[df['date'] <= max_date].empty else 0\n",
    "    df.loc[df['date'] > max_date, 'fight_count'] = last_value\n",
    "    return df\n",
    "df_train_m = df_train_m.groupby('fighter').apply(fill_last_fight_count).reset_index(drop=True)\n",
    "\n",
    "#calcul du win ratio\n",
    "def calculate_win_ratio(row):\n",
    "    if row['fight_count'] == 0:\n",
    "        return 0\n",
    "    else:\n",
    "        return row['fights_won'] / row['fight_count']\n",
    "\n",
    "# Appliquer la fonction à chaque ligne\n",
    "df_train_m['win_ratio'] = df_train_m.apply(calculate_win_ratio, axis=1)\n",
    "\n",
    "#concat_df['fights_won'] = concat_df['fights_won'] /\n",
    "# concat_df[['date', 'fighter', 'fight_count', 'win', 'fights_won']]\n",
    "df_train_m[['date','fighter', 'fight_count', 'win',\n",
    "           'fights_won', 'win_ratio']].loc[df_train_m['fighter'] == 'Curtis Blaydes']"
   ]
  },
  {
   "cell_type": "markdown",
   "id": "1d082555",
   "metadata": {},
   "source": [
    "## Calcul du lose ratio"
   ]
  },
  {
   "cell_type": "code",
   "execution_count": 313,
   "id": "5ccb27a1",
   "metadata": {
    "scrolled": true
   },
   "outputs": [
    {
     "data": {
      "text/html": [
       "<div>\n",
       "<style scoped>\n",
       "    .dataframe tbody tr th:only-of-type {\n",
       "        vertical-align: middle;\n",
       "    }\n",
       "\n",
       "    .dataframe tbody tr th {\n",
       "        vertical-align: top;\n",
       "    }\n",
       "\n",
       "    .dataframe thead th {\n",
       "        text-align: right;\n",
       "    }\n",
       "</style>\n",
       "<table border=\"1\" class=\"dataframe\">\n",
       "  <thead>\n",
       "    <tr style=\"text-align: right;\">\n",
       "      <th></th>\n",
       "      <th>date</th>\n",
       "      <th>fighter</th>\n",
       "      <th>fight_count</th>\n",
       "      <th>win</th>\n",
       "      <th>fights_lose</th>\n",
       "      <th>lose_ratio</th>\n",
       "    </tr>\n",
       "  </thead>\n",
       "  <tbody>\n",
       "    <tr>\n",
       "      <th>2849</th>\n",
       "      <td>2016-04-10</td>\n",
       "      <td>Curtis Blaydes</td>\n",
       "      <td>1</td>\n",
       "      <td>0</td>\n",
       "      <td>1</td>\n",
       "      <td>1.000000</td>\n",
       "    </tr>\n",
       "    <tr>\n",
       "      <th>2850</th>\n",
       "      <td>2016-10-01</td>\n",
       "      <td>Curtis Blaydes</td>\n",
       "      <td>2</td>\n",
       "      <td>1</td>\n",
       "      <td>1</td>\n",
       "      <td>0.500000</td>\n",
       "    </tr>\n",
       "    <tr>\n",
       "      <th>2851</th>\n",
       "      <td>2017-02-04</td>\n",
       "      <td>Curtis Blaydes</td>\n",
       "      <td>3</td>\n",
       "      <td>0</td>\n",
       "      <td>2</td>\n",
       "      <td>0.666667</td>\n",
       "    </tr>\n",
       "    <tr>\n",
       "      <th>2852</th>\n",
       "      <td>2017-07-08</td>\n",
       "      <td>Curtis Blaydes</td>\n",
       "      <td>4</td>\n",
       "      <td>1</td>\n",
       "      <td>2</td>\n",
       "      <td>0.500000</td>\n",
       "    </tr>\n",
       "    <tr>\n",
       "      <th>2853</th>\n",
       "      <td>2017-11-04</td>\n",
       "      <td>Curtis Blaydes</td>\n",
       "      <td>5</td>\n",
       "      <td>1</td>\n",
       "      <td>2</td>\n",
       "      <td>0.400000</td>\n",
       "    </tr>\n",
       "    <tr>\n",
       "      <th>2854</th>\n",
       "      <td>2018-02-10</td>\n",
       "      <td>Curtis Blaydes</td>\n",
       "      <td>6</td>\n",
       "      <td>1</td>\n",
       "      <td>2</td>\n",
       "      <td>0.333333</td>\n",
       "    </tr>\n",
       "    <tr>\n",
       "      <th>2855</th>\n",
       "      <td>2018-06-09</td>\n",
       "      <td>Curtis Blaydes</td>\n",
       "      <td>7</td>\n",
       "      <td>1</td>\n",
       "      <td>2</td>\n",
       "      <td>0.285714</td>\n",
       "    </tr>\n",
       "    <tr>\n",
       "      <th>2856</th>\n",
       "      <td>2018-11-24</td>\n",
       "      <td>Curtis Blaydes</td>\n",
       "      <td>8</td>\n",
       "      <td>0</td>\n",
       "      <td>3</td>\n",
       "      <td>0.375000</td>\n",
       "    </tr>\n",
       "    <tr>\n",
       "      <th>2857</th>\n",
       "      <td>2019-03-23</td>\n",
       "      <td>Curtis Blaydes</td>\n",
       "      <td>9</td>\n",
       "      <td>1</td>\n",
       "      <td>3</td>\n",
       "      <td>0.333333</td>\n",
       "    </tr>\n",
       "    <tr>\n",
       "      <th>2858</th>\n",
       "      <td>2019-09-07</td>\n",
       "      <td>Curtis Blaydes</td>\n",
       "      <td>10</td>\n",
       "      <td>1</td>\n",
       "      <td>3</td>\n",
       "      <td>0.300000</td>\n",
       "    </tr>\n",
       "    <tr>\n",
       "      <th>2859</th>\n",
       "      <td>2020-01-25</td>\n",
       "      <td>Curtis Blaydes</td>\n",
       "      <td>11</td>\n",
       "      <td>1</td>\n",
       "      <td>3</td>\n",
       "      <td>0.272727</td>\n",
       "    </tr>\n",
       "    <tr>\n",
       "      <th>2860</th>\n",
       "      <td>2020-06-20</td>\n",
       "      <td>Curtis Blaydes</td>\n",
       "      <td>12</td>\n",
       "      <td>1</td>\n",
       "      <td>3</td>\n",
       "      <td>0.250000</td>\n",
       "    </tr>\n",
       "    <tr>\n",
       "      <th>2861</th>\n",
       "      <td>2021-02-20</td>\n",
       "      <td>Curtis Blaydes</td>\n",
       "      <td>13</td>\n",
       "      <td>0</td>\n",
       "      <td>4</td>\n",
       "      <td>0.307692</td>\n",
       "    </tr>\n",
       "    <tr>\n",
       "      <th>2862</th>\n",
       "      <td>2021-09-25</td>\n",
       "      <td>Curtis Blaydes</td>\n",
       "      <td>14</td>\n",
       "      <td>1</td>\n",
       "      <td>4</td>\n",
       "      <td>0.285714</td>\n",
       "    </tr>\n",
       "    <tr>\n",
       "      <th>2863</th>\n",
       "      <td>2022-03-26</td>\n",
       "      <td>Curtis Blaydes</td>\n",
       "      <td>15</td>\n",
       "      <td>1</td>\n",
       "      <td>4</td>\n",
       "      <td>0.266667</td>\n",
       "    </tr>\n",
       "    <tr>\n",
       "      <th>2864</th>\n",
       "      <td>2022-07-23</td>\n",
       "      <td>Curtis Blaydes</td>\n",
       "      <td>16</td>\n",
       "      <td>1</td>\n",
       "      <td>4</td>\n",
       "      <td>0.250000</td>\n",
       "    </tr>\n",
       "    <tr>\n",
       "      <th>2865</th>\n",
       "      <td>2023-04-22</td>\n",
       "      <td>Curtis Blaydes</td>\n",
       "      <td>17</td>\n",
       "      <td>0</td>\n",
       "      <td>5</td>\n",
       "      <td>0.294118</td>\n",
       "    </tr>\n",
       "    <tr>\n",
       "      <th>2866</th>\n",
       "      <td>2024-03-09</td>\n",
       "      <td>Curtis Blaydes</td>\n",
       "      <td>18</td>\n",
       "      <td>1</td>\n",
       "      <td>5</td>\n",
       "      <td>0.277778</td>\n",
       "    </tr>\n",
       "    <tr>\n",
       "      <th>2867</th>\n",
       "      <td>2024-07-27</td>\n",
       "      <td>Curtis Blaydes</td>\n",
       "      <td>18</td>\n",
       "      <td>0</td>\n",
       "      <td>5</td>\n",
       "      <td>0.277778</td>\n",
       "    </tr>\n",
       "  </tbody>\n",
       "</table>\n",
       "</div>"
      ],
      "text/plain": [
       "           date         fighter  fight_count  win  fights_lose  lose_ratio\n",
       "2849 2016-04-10  Curtis Blaydes            1    0            1    1.000000\n",
       "2850 2016-10-01  Curtis Blaydes            2    1            1    0.500000\n",
       "2851 2017-02-04  Curtis Blaydes            3    0            2    0.666667\n",
       "2852 2017-07-08  Curtis Blaydes            4    1            2    0.500000\n",
       "2853 2017-11-04  Curtis Blaydes            5    1            2    0.400000\n",
       "2854 2018-02-10  Curtis Blaydes            6    1            2    0.333333\n",
       "2855 2018-06-09  Curtis Blaydes            7    1            2    0.285714\n",
       "2856 2018-11-24  Curtis Blaydes            8    0            3    0.375000\n",
       "2857 2019-03-23  Curtis Blaydes            9    1            3    0.333333\n",
       "2858 2019-09-07  Curtis Blaydes           10    1            3    0.300000\n",
       "2859 2020-01-25  Curtis Blaydes           11    1            3    0.272727\n",
       "2860 2020-06-20  Curtis Blaydes           12    1            3    0.250000\n",
       "2861 2021-02-20  Curtis Blaydes           13    0            4    0.307692\n",
       "2862 2021-09-25  Curtis Blaydes           14    1            4    0.285714\n",
       "2863 2022-03-26  Curtis Blaydes           15    1            4    0.266667\n",
       "2864 2022-07-23  Curtis Blaydes           16    1            4    0.250000\n",
       "2865 2023-04-22  Curtis Blaydes           17    0            5    0.294118\n",
       "2866 2024-03-09  Curtis Blaydes           18    1            5    0.277778\n",
       "2867 2024-07-27  Curtis Blaydes           18    0            5    0.277778"
      ]
     },
     "execution_count": 313,
     "metadata": {},
     "output_type": "execute_result"
    }
   ],
   "source": [
    "#Calcul des lose pour lose_rate\n",
    "# nombre de wins et de combats à la date du combat\n",
    "# df_train_m = df_train_m.sort_values(by='date')\n",
    "df_train_m['fights_lose'] = df_train_m.groupby('fighter')['win'].transform(lambda x: (x == 0).cumsum())\n",
    "\n",
    "# Pour la colonne fight_count :avoir seulement la dernière valeur pour les dates sup ou égales au 1-06-2024\n",
    "\n",
    "def fill_last_fight_lose(df):\n",
    "    max_date = '2024-06-01'\n",
    "    last_value = df.loc[df['date'] <= max_date, 'fights_lose'].iloc[-1] if not df[df['date'] <= max_date].empty else 0\n",
    "    df.loc[df['date'] > max_date, 'fights_lose'] = last_value\n",
    "    return df\n",
    "df_train_m = df_train_m.groupby('fighter').apply(fill_last_fight_lose).reset_index(drop=True)\n",
    "\n",
    "\n",
    "#calcul du lose ratio\n",
    "def calculate_lose_ratio(row):\n",
    "    if row['fight_count'] == 0:\n",
    "        return 0\n",
    "    else:\n",
    "        return row['fights_lose'] / row['fight_count']\n",
    "\n",
    "# Appliquer la fonction à chaque ligne\n",
    "df_train_m['lose_ratio'] = df_train_m.apply(calculate_lose_ratio, axis=1)\n",
    "\n",
    "#concat_df['fights_lose'] = concat_df['fights_lose'] /\n",
    "# concat_df[['date', 'fighter', 'fight_count', 'win', 'fights_won']]\n",
    "df_train_m[['date','fighter', 'fight_count', 'win',\n",
    "           'fights_lose', 'lose_ratio']].loc[df_train_m['fighter'] == 'Curtis Blaydes']"
   ]
  },
  {
   "cell_type": "markdown",
   "id": "1ce51963",
   "metadata": {},
   "source": [
    "# Ajout de la table avec l'allonge recalculé"
   ]
  },
  {
   "cell_type": "code",
   "execution_count": 287,
   "id": "c23c74f8",
   "metadata": {},
   "outputs": [],
   "source": [
    "df_train_allonge = pd.read_excel(\"df_train_allonge.xlsx\")"
   ]
  },
  {
   "cell_type": "code",
   "execution_count": null,
   "id": "57edd095",
   "metadata": {},
   "outputs": [],
   "source": [
    "(df_train_m[\"allonge_diff\"] == 0).count()"
   ]
  },
  {
   "cell_type": "code",
   "execution_count": null,
   "id": "131bb14c",
   "metadata": {},
   "outputs": [],
   "source": [
    "df_train_allonge.columns.tolist()"
   ]
  },
  {
   "cell_type": "code",
   "execution_count": 288,
   "id": "b6fe45d9",
   "metadata": {},
   "outputs": [],
   "source": [
    "df_fighter = df_fighter.rename(columns={\"fighter_id\":\"left_fighter_id\"})\n",
    "df_train_allonge = pd.merge(df_train_allonge,df_fighter, on ='left_fighter_id', how = 'left')"
   ]
  },
  {
   "cell_type": "code",
   "execution_count": 289,
   "id": "343c592d",
   "metadata": {},
   "outputs": [],
   "source": [
    "df_fighter = df_fighter.rename(columns={\"left_fighter_id\":\"right_fighter_id\"})\n",
    "df_train_allonge = pd.merge(df_train_allonge,df_fighter, on ='right_fighter_id', how = 'left')"
   ]
  },
  {
   "cell_type": "code",
   "execution_count": 290,
   "id": "1ea80f7d",
   "metadata": {},
   "outputs": [],
   "source": [
    "df_train_allonge = df_train_allonge.rename(columns={\"name_x\":\"left_fighter_name\",\"name_y\":\"right_fighter_name\"})"
   ]
  },
  {
   "cell_type": "code",
   "execution_count": 291,
   "id": "a6ca82c8",
   "metadata": {},
   "outputs": [],
   "source": [
    "# rename\n",
    "df_train_allonge = df_train_allonge.rename(columns={\n",
    "    'left_allonge (cm)': 'Allonge_left',\n",
    "    'right_allonge (cm)': 'Allonge_right'\n",
    "})"
   ]
  },
  {
   "cell_type": "code",
   "execution_count": 292,
   "id": "3d6f557a",
   "metadata": {},
   "outputs": [],
   "source": [
    "# différence d'allonge\n",
    "\n",
    "# cas normal\n",
    "df_train_allonge['diff_allonge_left_r'] = df_train_allonge['Allonge_left'] - df_train_allonge['Allonge_right']\n",
    "df_train_allonge['diff_allonge_right_l'] = df_train_allonge['Allonge_right'] - df_train_allonge['Allonge_left']\n",
    "\n",
    "# cas où il manque l'allonge de right ou de left\n",
    "df_train_allonge['diff_allonge_left_r'].loc[df_train_allonge['Allonge_left'] == 0] = 0\n",
    "df_train_allonge['diff_allonge_right_l'].loc[df_train_allonge['Allonge_right'] == 0] = 0\n",
    "df_train_allonge['diff_allonge_left_r'].loc[df_train_allonge['Allonge_right'] == 0] = 0\n",
    "df_train_allonge['diff_allonge_right_l'].loc[df_train_allonge['Allonge_left'] == 0] = 0"
   ]
  },
  {
   "cell_type": "code",
   "execution_count": 293,
   "id": "11f8afb8",
   "metadata": {},
   "outputs": [
    {
     "data": {
      "text/plain": [
       "6316"
      ]
     },
     "execution_count": 293,
     "metadata": {},
     "output_type": "execute_result"
    }
   ],
   "source": [
    "(df_train_allonge['diff_allonge_left_r']==0).count()"
   ]
  },
  {
   "cell_type": "code",
   "execution_count": 294,
   "id": "623aa4d5",
   "metadata": {},
   "outputs": [],
   "source": [
    "# rename et concatenation de la colonne diff_allonge\n",
    "df_fighter_left = df_train_allonge[['left_fighter_name','diff_allonge_left_r']]\n",
    "df_fighter_right = df_train_allonge[['right_fighter_name','diff_allonge_right_l']]\n",
    "df_fighter_left = df_fighter_left.rename(\n",
    "    columns={\n",
    "        'left_fighter_name': 'fighter', 'diff_allonge_left_r':'diff_allonge'})\n",
    "df_fighter_right = df_fighter_right.rename(\n",
    "    columns={\n",
    "        'right_fighter_name': 'fighter', 'diff_allonge_right_l':'diff_allonge'})\n",
    "df_train_allonge2 = pd.concat([df_fighter_left, df_fighter_right], ignore_index=True)"
   ]
  },
  {
   "cell_type": "code",
   "execution_count": 304,
   "id": "d8ab178b",
   "metadata": {},
   "outputs": [],
   "source": [
    "# aggrégation par fighter pour faire la jointure avec la table de base\n",
    "df_train_allonge2 = df_train_allonge2.groupby(\"fighter\").agg({\"diff_allonge\":\"mean\"})"
   ]
  },
  {
   "cell_type": "code",
   "execution_count": 377,
   "id": "57037720",
   "metadata": {},
   "outputs": [],
   "source": [
    "df_train_m2 = pd.merge(df_train_m, df_train_allonge2, on='fighter', how='left')"
   ]
  },
  {
   "cell_type": "code",
   "execution_count": null,
   "id": "b81cd73f",
   "metadata": {},
   "outputs": [],
   "source": [
    "df_train_m2.info()"
   ]
  },
  {
   "cell_type": "markdown",
   "id": "615d5f6b",
   "metadata": {},
   "source": [
    "# Séparation en train et predict"
   ]
  },
  {
   "cell_type": "code",
   "execution_count": 379,
   "id": "379de45f",
   "metadata": {},
   "outputs": [],
   "source": [
    "df_train_m2[\"diff_allonge\"].fillna(0,inplace=True)"
   ]
  },
  {
   "cell_type": "code",
   "execution_count": 380,
   "id": "e5d43f67",
   "metadata": {},
   "outputs": [
    {
     "data": {
      "text/plain": [
       "date             0\n",
       "is_main_event    0\n",
       "referee_name     0\n",
       "match            0\n",
       "round            0\n",
       "                ..\n",
       "fight_count      0\n",
       "win_ratio        0\n",
       "fights_lose      0\n",
       "lose_ratio       0\n",
       "diff_allonge     0\n",
       "Length: 81, dtype: int64"
      ]
     },
     "execution_count": 380,
     "metadata": {},
     "output_type": "execute_result"
    }
   ],
   "source": [
    "df_train_m2.isna().sum()"
   ]
  },
  {
   "cell_type": "code",
   "execution_count": 381,
   "id": "ab5d327d",
   "metadata": {},
   "outputs": [
    {
     "data": {
      "text/html": [
       "<div>\n",
       "<style scoped>\n",
       "    .dataframe tbody tr th:only-of-type {\n",
       "        vertical-align: middle;\n",
       "    }\n",
       "\n",
       "    .dataframe tbody tr th {\n",
       "        vertical-align: top;\n",
       "    }\n",
       "\n",
       "    .dataframe thead th {\n",
       "        text-align: right;\n",
       "    }\n",
       "</style>\n",
       "<table border=\"1\" class=\"dataframe\">\n",
       "  <thead>\n",
       "    <tr style=\"text-align: right;\">\n",
       "      <th></th>\n",
       "      <th>date</th>\n",
       "      <th>is_main_event</th>\n",
       "      <th>referee_name</th>\n",
       "      <th>match</th>\n",
       "      <th>round</th>\n",
       "      <th>fighter</th>\n",
       "      <th>nb_fights_diff</th>\n",
       "      <th>age_diff</th>\n",
       "      <th>size_diff</th>\n",
       "      <th>weight_diff</th>\n",
       "      <th>...</th>\n",
       "      <th>higher_allonge_jambe</th>\n",
       "      <th>smaller_allonge_jambe</th>\n",
       "      <th>is_smaller</th>\n",
       "      <th>Other_mode</th>\n",
       "      <th>fights_won</th>\n",
       "      <th>fight_count</th>\n",
       "      <th>win_ratio</th>\n",
       "      <th>fights_lose</th>\n",
       "      <th>lose_ratio</th>\n",
       "      <th>diff_allonge</th>\n",
       "    </tr>\n",
       "  </thead>\n",
       "  <tbody>\n",
       "    <tr>\n",
       "      <th>50</th>\n",
       "      <td>2024-07-13</td>\n",
       "      <td>False</td>\n",
       "      <td>unknown</td>\n",
       "      <td>1</td>\n",
       "      <td>0</td>\n",
       "      <td>Abdul Razak Alhassan</td>\n",
       "      <td>2</td>\n",
       "      <td>8</td>\n",
       "      <td>-30.48</td>\n",
       "      <td>0.00</td>\n",
       "      <td>...</td>\n",
       "      <td>0</td>\n",
       "      <td>0</td>\n",
       "      <td>1</td>\n",
       "      <td>1</td>\n",
       "      <td>6</td>\n",
       "      <td>12</td>\n",
       "      <td>0.500000</td>\n",
       "      <td>6</td>\n",
       "      <td>0.500000</td>\n",
       "      <td>-3.272727</td>\n",
       "    </tr>\n",
       "    <tr>\n",
       "      <th>68</th>\n",
       "      <td>2024-06-22</td>\n",
       "      <td>False</td>\n",
       "      <td>unknown</td>\n",
       "      <td>2</td>\n",
       "      <td>0</td>\n",
       "      <td>Abu Azaitar</td>\n",
       "      <td>-3</td>\n",
       "      <td>2</td>\n",
       "      <td>-6.10</td>\n",
       "      <td>0.46</td>\n",
       "      <td>...</td>\n",
       "      <td>0</td>\n",
       "      <td>1</td>\n",
       "      <td>1</td>\n",
       "      <td>0</td>\n",
       "      <td>1</td>\n",
       "      <td>3</td>\n",
       "      <td>0.333333</td>\n",
       "      <td>2</td>\n",
       "      <td>0.666667</td>\n",
       "      <td>-2.000000</td>\n",
       "    </tr>\n",
       "    <tr>\n",
       "      <th>81</th>\n",
       "      <td>2024-06-15</td>\n",
       "      <td>False</td>\n",
       "      <td>unknown</td>\n",
       "      <td>5</td>\n",
       "      <td>0</td>\n",
       "      <td>Adam Fugitt</td>\n",
       "      <td>1</td>\n",
       "      <td>4</td>\n",
       "      <td>3.05</td>\n",
       "      <td>0.00</td>\n",
       "      <td>...</td>\n",
       "      <td>0</td>\n",
       "      <td>0</td>\n",
       "      <td>0</td>\n",
       "      <td>0</td>\n",
       "      <td>1</td>\n",
       "      <td>3</td>\n",
       "      <td>0.333333</td>\n",
       "      <td>2</td>\n",
       "      <td>0.666667</td>\n",
       "      <td>6.666667</td>\n",
       "    </tr>\n",
       "    <tr>\n",
       "      <th>343</th>\n",
       "      <td>2024-06-01</td>\n",
       "      <td>False</td>\n",
       "      <td>unknown</td>\n",
       "      <td>4</td>\n",
       "      <td>0</td>\n",
       "      <td>Alex Morono</td>\n",
       "      <td>-1</td>\n",
       "      <td>-1</td>\n",
       "      <td>-27.13</td>\n",
       "      <td>0.00</td>\n",
       "      <td>...</td>\n",
       "      <td>0</td>\n",
       "      <td>1</td>\n",
       "      <td>1</td>\n",
       "      <td>1</td>\n",
       "      <td>13</td>\n",
       "      <td>21</td>\n",
       "      <td>0.619048</td>\n",
       "      <td>8</td>\n",
       "      <td>0.380952</td>\n",
       "      <td>-5.333333</td>\n",
       "    </tr>\n",
       "    <tr>\n",
       "      <th>392</th>\n",
       "      <td>2024-06-15</td>\n",
       "      <td>True</td>\n",
       "      <td>John McCarthy</td>\n",
       "      <td>0</td>\n",
       "      <td>0</td>\n",
       "      <td>Alex Perez</td>\n",
       "      <td>7</td>\n",
       "      <td>8</td>\n",
       "      <td>-3.05</td>\n",
       "      <td>0.00</td>\n",
       "      <td>...</td>\n",
       "      <td>0</td>\n",
       "      <td>0</td>\n",
       "      <td>1</td>\n",
       "      <td>0</td>\n",
       "      <td>7</td>\n",
       "      <td>11</td>\n",
       "      <td>0.636364</td>\n",
       "      <td>4</td>\n",
       "      <td>0.363636</td>\n",
       "      <td>-4.777778</td>\n",
       "    </tr>\n",
       "    <tr>\n",
       "      <th>...</th>\n",
       "      <td>...</td>\n",
       "      <td>...</td>\n",
       "      <td>...</td>\n",
       "      <td>...</td>\n",
       "      <td>...</td>\n",
       "      <td>...</td>\n",
       "      <td>...</td>\n",
       "      <td>...</td>\n",
       "      <td>...</td>\n",
       "      <td>...</td>\n",
       "      <td>...</td>\n",
       "      <td>...</td>\n",
       "      <td>...</td>\n",
       "      <td>...</td>\n",
       "      <td>...</td>\n",
       "      <td>...</td>\n",
       "      <td>...</td>\n",
       "      <td>...</td>\n",
       "      <td>...</td>\n",
       "      <td>...</td>\n",
       "      <td>...</td>\n",
       "    </tr>\n",
       "    <tr>\n",
       "      <th>13433</th>\n",
       "      <td>2024-06-29</td>\n",
       "      <td>False</td>\n",
       "      <td>unknown</td>\n",
       "      <td>1</td>\n",
       "      <td>0</td>\n",
       "      <td>Vinicius Oliveira</td>\n",
       "      <td>-8</td>\n",
       "      <td>-3</td>\n",
       "      <td>9.14</td>\n",
       "      <td>0.00</td>\n",
       "      <td>...</td>\n",
       "      <td>1</td>\n",
       "      <td>0</td>\n",
       "      <td>0</td>\n",
       "      <td>0</td>\n",
       "      <td>1</td>\n",
       "      <td>1</td>\n",
       "      <td>1.000000</td>\n",
       "      <td>0</td>\n",
       "      <td>0.000000</td>\n",
       "      <td>0.000000</td>\n",
       "    </tr>\n",
       "    <tr>\n",
       "      <th>13508</th>\n",
       "      <td>2024-06-22</td>\n",
       "      <td>False</td>\n",
       "      <td>unknown</td>\n",
       "      <td>9</td>\n",
       "      <td>0</td>\n",
       "      <td>Volkan Oezdemir</td>\n",
       "      <td>-1</td>\n",
       "      <td>2</td>\n",
       "      <td>-12.19</td>\n",
       "      <td>0.00</td>\n",
       "      <td>...</td>\n",
       "      <td>0</td>\n",
       "      <td>0</td>\n",
       "      <td>1</td>\n",
       "      <td>0</td>\n",
       "      <td>7</td>\n",
       "      <td>13</td>\n",
       "      <td>0.538462</td>\n",
       "      <td>6</td>\n",
       "      <td>0.461538</td>\n",
       "      <td>-3.769231</td>\n",
       "    </tr>\n",
       "    <tr>\n",
       "      <th>13599</th>\n",
       "      <td>2024-06-15</td>\n",
       "      <td>False</td>\n",
       "      <td>unknown</td>\n",
       "      <td>3</td>\n",
       "      <td>0</td>\n",
       "      <td>Westin Wilson</td>\n",
       "      <td>-1</td>\n",
       "      <td>6</td>\n",
       "      <td>9.15</td>\n",
       "      <td>0.00</td>\n",
       "      <td>...</td>\n",
       "      <td>1</td>\n",
       "      <td>0</td>\n",
       "      <td>0</td>\n",
       "      <td>1</td>\n",
       "      <td>0</td>\n",
       "      <td>2</td>\n",
       "      <td>0.000000</td>\n",
       "      <td>2</td>\n",
       "      <td>1.000000</td>\n",
       "      <td>6.000000</td>\n",
       "    </tr>\n",
       "    <tr>\n",
       "      <th>13709</th>\n",
       "      <td>2024-06-29</td>\n",
       "      <td>False</td>\n",
       "      <td>unknown</td>\n",
       "      <td>2</td>\n",
       "      <td>0</td>\n",
       "      <td>Yanis Ghemmouri</td>\n",
       "      <td>-1</td>\n",
       "      <td>4</td>\n",
       "      <td>24.38</td>\n",
       "      <td>4.54</td>\n",
       "      <td>...</td>\n",
       "      <td>0</td>\n",
       "      <td>0</td>\n",
       "      <td>0</td>\n",
       "      <td>1</td>\n",
       "      <td>0</td>\n",
       "      <td>1</td>\n",
       "      <td>0.000000</td>\n",
       "      <td>1</td>\n",
       "      <td>1.000000</td>\n",
       "      <td>-10.000000</td>\n",
       "    </tr>\n",
       "    <tr>\n",
       "      <th>13868</th>\n",
       "      <td>2024-06-08</td>\n",
       "      <td>False</td>\n",
       "      <td>unknown</td>\n",
       "      <td>10</td>\n",
       "      <td>0</td>\n",
       "      <td>Zachary Reese</td>\n",
       "      <td>-2</td>\n",
       "      <td>-4</td>\n",
       "      <td>3.04</td>\n",
       "      <td>0.00</td>\n",
       "      <td>...</td>\n",
       "      <td>0</td>\n",
       "      <td>0</td>\n",
       "      <td>0</td>\n",
       "      <td>0</td>\n",
       "      <td>0</td>\n",
       "      <td>1</td>\n",
       "      <td>0.000000</td>\n",
       "      <td>1</td>\n",
       "      <td>1.000000</td>\n",
       "      <td>0.000000</td>\n",
       "    </tr>\n",
       "  </tbody>\n",
       "</table>\n",
       "<p>164 rows × 81 columns</p>\n",
       "</div>"
      ],
      "text/plain": [
       "            date  is_main_event   referee_name  match  round  \\\n",
       "50    2024-07-13          False        unknown      1      0   \n",
       "68    2024-06-22          False        unknown      2      0   \n",
       "81    2024-06-15          False        unknown      5      0   \n",
       "343   2024-06-01          False        unknown      4      0   \n",
       "392   2024-06-15           True  John McCarthy      0      0   \n",
       "...          ...            ...            ...    ...    ...   \n",
       "13433 2024-06-29          False        unknown      1      0   \n",
       "13508 2024-06-22          False        unknown      9      0   \n",
       "13599 2024-06-15          False        unknown      3      0   \n",
       "13709 2024-06-29          False        unknown      2      0   \n",
       "13868 2024-06-08          False        unknown     10      0   \n",
       "\n",
       "                    fighter  nb_fights_diff  age_diff  size_diff  weight_diff  \\\n",
       "50     Abdul Razak Alhassan               2         8     -30.48         0.00   \n",
       "68              Abu Azaitar              -3         2      -6.10         0.46   \n",
       "81              Adam Fugitt               1         4       3.05         0.00   \n",
       "343             Alex Morono              -1        -1     -27.13         0.00   \n",
       "392              Alex Perez               7         8      -3.05         0.00   \n",
       "...                     ...             ...       ...        ...          ...   \n",
       "13433     Vinicius Oliveira              -8        -3       9.14         0.00   \n",
       "13508       Volkan Oezdemir              -1         2     -12.19         0.00   \n",
       "13599         Westin Wilson              -1         6       9.15         0.00   \n",
       "13709       Yanis Ghemmouri              -1         4      24.38         4.54   \n",
       "13868         Zachary Reese              -2        -4       3.04         0.00   \n",
       "\n",
       "       ...  higher_allonge_jambe  smaller_allonge_jambe  is_smaller  \\\n",
       "50     ...                     0                      0           1   \n",
       "68     ...                     0                      1           1   \n",
       "81     ...                     0                      0           0   \n",
       "343    ...                     0                      1           1   \n",
       "392    ...                     0                      0           1   \n",
       "...    ...                   ...                    ...         ...   \n",
       "13433  ...                     1                      0           0   \n",
       "13508  ...                     0                      0           1   \n",
       "13599  ...                     1                      0           0   \n",
       "13709  ...                     0                      0           0   \n",
       "13868  ...                     0                      0           0   \n",
       "\n",
       "       Other_mode fights_won fight_count  win_ratio  fights_lose  lose_ratio  \\\n",
       "50              1          6          12   0.500000            6    0.500000   \n",
       "68              0          1           3   0.333333            2    0.666667   \n",
       "81              0          1           3   0.333333            2    0.666667   \n",
       "343             1         13          21   0.619048            8    0.380952   \n",
       "392             0          7          11   0.636364            4    0.363636   \n",
       "...           ...        ...         ...        ...          ...         ...   \n",
       "13433           0          1           1   1.000000            0    0.000000   \n",
       "13508           0          7          13   0.538462            6    0.461538   \n",
       "13599           1          0           2   0.000000            2    1.000000   \n",
       "13709           1          0           1   0.000000            1    1.000000   \n",
       "13868           0          0           1   0.000000            1    1.000000   \n",
       "\n",
       "       diff_allonge  \n",
       "50        -3.272727  \n",
       "68        -2.000000  \n",
       "81         6.666667  \n",
       "343       -5.333333  \n",
       "392       -4.777778  \n",
       "...             ...  \n",
       "13433      0.000000  \n",
       "13508     -3.769231  \n",
       "13599      6.000000  \n",
       "13709    -10.000000  \n",
       "13868      0.000000  \n",
       "\n",
       "[164 rows x 81 columns]"
      ]
     },
     "execution_count": 381,
     "metadata": {},
     "output_type": "execute_result"
    }
   ],
   "source": [
    "df_train_m2.loc[df_train_m2[\"date\"] >= '2024-06-01']"
   ]
  },
  {
   "cell_type": "code",
   "execution_count": 382,
   "id": "9b59d57d",
   "metadata": {},
   "outputs": [],
   "source": [
    "df_predict = df_train_m2.loc[df_train_m2['date'] >= '2024-06-01']\n",
    "df_train = df_train_m2.loc[(df_train_m2.date < '2024-06-01') & (df_train_m2.date > '2011-12-31')]\n",
    "\n",
    "\n",
    "df_train = df_train.dropna()"
   ]
  },
  {
   "cell_type": "code",
   "execution_count": null,
   "id": "e45349c7",
   "metadata": {},
   "outputs": [],
   "source": [
    "df_train"
   ]
  },
  {
   "cell_type": "code",
   "execution_count": 318,
   "id": "8877f02d",
   "metadata": {},
   "outputs": [
    {
     "data": {
      "text/plain": [
       "Timestamp('2012-01-14 00:00:00')"
      ]
     },
     "execution_count": 318,
     "metadata": {},
     "output_type": "execute_result"
    }
   ],
   "source": [
    "df_train['date'].min()"
   ]
  },
  {
   "cell_type": "code",
   "execution_count": null,
   "id": "a4d4ee16",
   "metadata": {},
   "outputs": [],
   "source": [
    "df_train.info()"
   ]
  },
  {
   "cell_type": "markdown",
   "id": "0196f958",
   "metadata": {},
   "source": [
    "## Conservation des features"
   ]
  },
  {
   "cell_type": "code",
   "execution_count": 383,
   "id": "12cda38d",
   "metadata": {},
   "outputs": [],
   "source": [
    "df_train_pycaret = df_train.drop(columns=['diff_allonge_jambe','date', 'is_main_event', 'referee_name', 'match', 'round', 'fighter','method','fights_won',\n",
    "       'fight_count','Sanda', 'Sanshou', 'Savate', 'Seidokaikan', 'Shidokan', 'Shootboxing',\n",
    "       'Shootfighting', 'Shooto', 'Shorinji_Kempo', 'Shotokan', 'Silat',\n",
    "       'Ssireum', 'Taekwondo', 'Tai_Chi', 'Vale_tudo', 'Wu_Jitsu', 'Wushu', 'Ninjutsu', 'Pancrace','Lutte_Gréco_Romaine', 'Krav_Maga',\n",
    "       'Kung_Fu', 'Kuntao', 'Kyokushin', 'Laïdo', 'Luta_Livre','Judo', 'Jujitsu', 'Kajukenbo', 'Kali',\n",
    "       'Kapu_kuialua', 'Karaté', 'Kempo', 'Kendo','Jeet_Kune_Do', 'Goshin_Jutsu', 'Gwonbeop','Aikido','is_younger','is_lighter','smaller_allonge','higher_allonge_jambe',\n",
    "       'smaller_allonge_jambe','Other_mode', 'fights_won',\n",
    "       'fight_count','sex','fights_lose',\"allonge_diff\"], axis=1)"
   ]
  },
  {
   "cell_type": "code",
   "execution_count": 384,
   "id": "2730821a",
   "metadata": {},
   "outputs": [],
   "source": [
    "df_predict_pycaret = df_predict.drop(columns=['diff_allonge_jambe','date', 'is_main_event', 'referee_name', 'match', 'round', 'fighter','method','fights_won',\n",
    "       'fight_count','Sanda', 'Sanshou', 'Savate', 'Seidokaikan', 'Shidokan', 'Shootboxing',\n",
    "       'Shootfighting', 'Shooto', 'Shorinji_Kempo', 'Shotokan', 'Silat',\n",
    "       'Ssireum', 'Taekwondo', 'Tai_Chi', 'Vale_tudo', 'Wu_Jitsu', 'Wushu', 'Ninjutsu', 'Pancrace','Lutte_Gréco_Romaine', 'Krav_Maga',\n",
    "       'Kung_Fu', 'Kuntao', 'Kyokushin', 'Laïdo', 'Luta_Livre','Judo', 'Jujitsu', 'Kajukenbo', 'Kali',\n",
    "       'Kapu_kuialua', 'Karaté', 'Kempo', 'Kendo','Jeet_Kune_Do', 'Goshin_Jutsu', 'Gwonbeop','Aikido','is_younger','is_lighter','smaller_allonge','higher_allonge_jambe',\n",
    "       'smaller_allonge_jambe','Other_mode', 'fights_won',\n",
    "       'fight_count','sex','fights_lose',\"allonge_diff\"], axis=1)"
   ]
  },
  {
   "cell_type": "code",
   "execution_count": 385,
   "id": "ce2d59ff",
   "metadata": {
    "scrolled": true
   },
   "outputs": [
    {
     "data": {
      "text/plain": [
       "Index(['nb_fights_diff', 'age_diff', 'size_diff', 'weight_diff',\n",
       "       'is_home_country', 'is_home_town', 'win', 'Boxe', 'Gaidojutsu',\n",
       "       'Hapkido', 'Jiu_jitsu_brésilien', 'Kickboxing', 'Lutte', 'Muay_thaï',\n",
       "       'Sambo', 'is_taller', 'is_older', 'is_heavier', 'has_more_fights',\n",
       "       'higher_allonge', 'is_smaller', 'win_ratio', 'lose_ratio',\n",
       "       'diff_allonge'],\n",
       "      dtype='object')"
      ]
     },
     "execution_count": 385,
     "metadata": {},
     "output_type": "execute_result"
    }
   ],
   "source": [
    "df_train_pycaret.columns"
   ]
  },
  {
   "cell_type": "code",
   "execution_count": 386,
   "id": "817d7b90",
   "metadata": {},
   "outputs": [],
   "source": [
    "columns_to_keep = ['nb_fights_diff', 'age_diff', 'size_diff', 'weight_diff',\n",
    "       'is_home_country', 'is_home_town', 'win', 'Boxe', 'Gaidojutsu',\n",
    "       'Hapkido', 'Jiu_jitsu_brésilien', 'Kickboxing', 'Lutte', 'Muay_thaï',\n",
    "       'Sambo', 'is_taller', 'is_older', 'is_heavier', 'has_more_fights',\n",
    "       'higher_allonge', 'is_smaller', 'win_ratio', 'lose_ratio',\n",
    "       'diff_allonge','Sanda', 'Sanshou', 'Savate', 'Seidokaikan', 'Shidokan', 'Shootboxing',\n",
    "       'Shootfighting', 'Shooto', 'Shorinji_Kempo', 'Shotokan', 'Silat',\n",
    "       'Ssireum', 'Taekwondo', 'Tai_Chi', 'Vale_tudo', 'Wu_Jitsu', 'Wushu', 'Ninjutsu', 'Pancrace','Lutte_Gréco_Romaine', 'Krav_Maga',\n",
    "       'Kung_Fu', 'Kuntao', 'Kyokushin', 'Laïdo', 'Luta_Livre','Judo', 'Jujitsu', 'Kajukenbo', 'Kali',\n",
    "       'Kapu_kuialua', 'Karaté', 'Kempo', 'Kendo','Jeet_Kune_Do', 'Goshin_Jutsu', 'Gwonbeop','Aikido']"
   ]
  },
  {
   "cell_type": "code",
   "execution_count": 387,
   "id": "2ed20e79",
   "metadata": {},
   "outputs": [],
   "source": [
    "df_train_pycaret2 = df_train[columns_to_keep]"
   ]
  },
  {
   "cell_type": "code",
   "execution_count": 388,
   "id": "fad0c58e",
   "metadata": {},
   "outputs": [],
   "source": [
    "features = ['nb_fights_diff', 'age_diff', 'size_diff', 'weight_diff',\n",
    "       'is_home_country', 'is_home_town', 'Boxe', 'Gaidojutsu',\n",
    "       'Hapkido', 'Jiu_jitsu_brésilien', 'Kickboxing', 'Lutte', 'Muay_thaï',\n",
    "       'Sambo', 'is_taller', 'is_older', 'is_heavier', 'has_more_fights',\n",
    "       'higher_allonge', 'is_smaller', 'win_ratio', 'lose_ratio',\n",
    "       'diff_allonge','Sanda', 'Sanshou', 'Savate', 'Seidokaikan', 'Shidokan', 'Shootboxing',\n",
    "       'Shootfighting', 'Shooto', 'Shorinji_Kempo', 'Shotokan', 'Silat',\n",
    "       'Ssireum', 'Taekwondo', 'Tai_Chi', 'Vale_tudo', 'Wu_Jitsu', 'Wushu', 'Ninjutsu', 'Pancrace','Lutte_Gréco_Romaine', 'Krav_Maga',\n",
    "       'Kung_Fu', 'Kuntao', 'Kyokushin', 'Laïdo', 'Luta_Livre','Judo', 'Jujitsu', 'Kajukenbo', 'Kali',\n",
    "       'Kapu_kuialua', 'Karaté', 'Kempo', 'Kendo','Jeet_Kune_Do', 'Goshin_Jutsu', 'Gwonbeop','Aikido']"
   ]
  },
  {
   "cell_type": "code",
   "execution_count": 389,
   "id": "495595b7",
   "metadata": {},
   "outputs": [],
   "source": [
    "target = 'win'"
   ]
  },
  {
   "cell_type": "markdown",
   "id": "b35875a1",
   "metadata": {},
   "source": [
    "## CHI_SQUARE"
   ]
  },
  {
   "cell_type": "code",
   "execution_count": 539,
   "id": "32b4910d",
   "metadata": {
    "scrolled": true
   },
   "outputs": [
    {
     "data": {
      "text/html": [
       "<div>\n",
       "<style scoped>\n",
       "    .dataframe tbody tr th:only-of-type {\n",
       "        vertical-align: middle;\n",
       "    }\n",
       "\n",
       "    .dataframe tbody tr th {\n",
       "        vertical-align: top;\n",
       "    }\n",
       "\n",
       "    .dataframe thead th {\n",
       "        text-align: right;\n",
       "    }\n",
       "</style>\n",
       "<table border=\"1\" class=\"dataframe\">\n",
       "  <thead>\n",
       "    <tr style=\"text-align: right;\">\n",
       "      <th></th>\n",
       "      <th>feature</th>\n",
       "      <th>p_value</th>\n",
       "      <th>relationship</th>\n",
       "    </tr>\n",
       "  </thead>\n",
       "  <tbody>\n",
       "    <tr>\n",
       "      <th>0</th>\n",
       "      <td>is_home_country</td>\n",
       "      <td>1.022107e-01</td>\n",
       "      <td>False</td>\n",
       "    </tr>\n",
       "    <tr>\n",
       "      <th>1</th>\n",
       "      <td>is_home_town</td>\n",
       "      <td>2.952048e-02</td>\n",
       "      <td>True</td>\n",
       "    </tr>\n",
       "    <tr>\n",
       "      <th>2</th>\n",
       "      <td>Boxe</td>\n",
       "      <td>1.007812e-12</td>\n",
       "      <td>True</td>\n",
       "    </tr>\n",
       "    <tr>\n",
       "      <th>3</th>\n",
       "      <td>Gaidojutsu</td>\n",
       "      <td>1.816541e-01</td>\n",
       "      <td>False</td>\n",
       "    </tr>\n",
       "    <tr>\n",
       "      <th>4</th>\n",
       "      <td>Hapkido</td>\n",
       "      <td>1.963214e-02</td>\n",
       "      <td>True</td>\n",
       "    </tr>\n",
       "    <tr>\n",
       "      <th>5</th>\n",
       "      <td>Jiu_jitsu_brésilien</td>\n",
       "      <td>1.973490e-18</td>\n",
       "      <td>True</td>\n",
       "    </tr>\n",
       "    <tr>\n",
       "      <th>6</th>\n",
       "      <td>Kickboxing</td>\n",
       "      <td>6.084922e-18</td>\n",
       "      <td>True</td>\n",
       "    </tr>\n",
       "    <tr>\n",
       "      <th>7</th>\n",
       "      <td>Lutte</td>\n",
       "      <td>1.428738e-13</td>\n",
       "      <td>True</td>\n",
       "    </tr>\n",
       "    <tr>\n",
       "      <th>8</th>\n",
       "      <td>Muay_thaï</td>\n",
       "      <td>6.294455e-06</td>\n",
       "      <td>True</td>\n",
       "    </tr>\n",
       "    <tr>\n",
       "      <th>9</th>\n",
       "      <td>Sambo</td>\n",
       "      <td>6.005257e-06</td>\n",
       "      <td>True</td>\n",
       "    </tr>\n",
       "    <tr>\n",
       "      <th>10</th>\n",
       "      <td>is_taller</td>\n",
       "      <td>2.432854e-03</td>\n",
       "      <td>True</td>\n",
       "    </tr>\n",
       "    <tr>\n",
       "      <th>11</th>\n",
       "      <td>is_older</td>\n",
       "      <td>1.319862e-33</td>\n",
       "      <td>True</td>\n",
       "    </tr>\n",
       "    <tr>\n",
       "      <th>12</th>\n",
       "      <td>is_heavier</td>\n",
       "      <td>3.719771e-03</td>\n",
       "      <td>True</td>\n",
       "    </tr>\n",
       "    <tr>\n",
       "      <th>13</th>\n",
       "      <td>has_more_fights</td>\n",
       "      <td>3.500632e-156</td>\n",
       "      <td>True</td>\n",
       "    </tr>\n",
       "    <tr>\n",
       "      <th>14</th>\n",
       "      <td>higher_allonge</td>\n",
       "      <td>5.987137e-05</td>\n",
       "      <td>True</td>\n",
       "    </tr>\n",
       "    <tr>\n",
       "      <th>15</th>\n",
       "      <td>is_smaller</td>\n",
       "      <td>2.024977e-03</td>\n",
       "      <td>True</td>\n",
       "    </tr>\n",
       "    <tr>\n",
       "      <th>16</th>\n",
       "      <td>Sanda</td>\n",
       "      <td>8.146718e-01</td>\n",
       "      <td>False</td>\n",
       "    </tr>\n",
       "    <tr>\n",
       "      <th>17</th>\n",
       "      <td>Sanshou</td>\n",
       "      <td>1.000000e+00</td>\n",
       "      <td>False</td>\n",
       "    </tr>\n",
       "    <tr>\n",
       "      <th>18</th>\n",
       "      <td>Savate</td>\n",
       "      <td>2.775385e-01</td>\n",
       "      <td>False</td>\n",
       "    </tr>\n",
       "    <tr>\n",
       "      <th>19</th>\n",
       "      <td>Seidokaikan</td>\n",
       "      <td>1.000000e+00</td>\n",
       "      <td>False</td>\n",
       "    </tr>\n",
       "    <tr>\n",
       "      <th>20</th>\n",
       "      <td>Shidokan</td>\n",
       "      <td>1.000000e+00</td>\n",
       "      <td>False</td>\n",
       "    </tr>\n",
       "    <tr>\n",
       "      <th>21</th>\n",
       "      <td>Shootboxing</td>\n",
       "      <td>7.167373e-01</td>\n",
       "      <td>False</td>\n",
       "    </tr>\n",
       "    <tr>\n",
       "      <th>22</th>\n",
       "      <td>Shootfighting</td>\n",
       "      <td>8.726443e-01</td>\n",
       "      <td>False</td>\n",
       "    </tr>\n",
       "    <tr>\n",
       "      <th>23</th>\n",
       "      <td>Shooto</td>\n",
       "      <td>4.187586e-01</td>\n",
       "      <td>False</td>\n",
       "    </tr>\n",
       "    <tr>\n",
       "      <th>24</th>\n",
       "      <td>Shorinji_Kempo</td>\n",
       "      <td>1.000000e+00</td>\n",
       "      <td>False</td>\n",
       "    </tr>\n",
       "    <tr>\n",
       "      <th>25</th>\n",
       "      <td>Shotokan</td>\n",
       "      <td>2.011163e-01</td>\n",
       "      <td>False</td>\n",
       "    </tr>\n",
       "    <tr>\n",
       "      <th>26</th>\n",
       "      <td>Silat</td>\n",
       "      <td>1.000000e+00</td>\n",
       "      <td>False</td>\n",
       "    </tr>\n",
       "    <tr>\n",
       "      <th>27</th>\n",
       "      <td>Ssireum</td>\n",
       "      <td>7.467433e-01</td>\n",
       "      <td>False</td>\n",
       "    </tr>\n",
       "    <tr>\n",
       "      <th>28</th>\n",
       "      <td>Taekwondo</td>\n",
       "      <td>2.031850e-01</td>\n",
       "      <td>False</td>\n",
       "    </tr>\n",
       "    <tr>\n",
       "      <th>29</th>\n",
       "      <td>Tai_Chi</td>\n",
       "      <td>1.000000e+00</td>\n",
       "      <td>False</td>\n",
       "    </tr>\n",
       "    <tr>\n",
       "      <th>30</th>\n",
       "      <td>Vale_tudo</td>\n",
       "      <td>1.000000e+00</td>\n",
       "      <td>False</td>\n",
       "    </tr>\n",
       "    <tr>\n",
       "      <th>31</th>\n",
       "      <td>Wu_Jitsu</td>\n",
       "      <td>4.151083e-01</td>\n",
       "      <td>False</td>\n",
       "    </tr>\n",
       "    <tr>\n",
       "      <th>32</th>\n",
       "      <td>Wushu</td>\n",
       "      <td>1.192753e-02</td>\n",
       "      <td>True</td>\n",
       "    </tr>\n",
       "    <tr>\n",
       "      <th>33</th>\n",
       "      <td>Ninjutsu</td>\n",
       "      <td>1.000000e+00</td>\n",
       "      <td>False</td>\n",
       "    </tr>\n",
       "    <tr>\n",
       "      <th>34</th>\n",
       "      <td>Pancrace</td>\n",
       "      <td>2.282394e-01</td>\n",
       "      <td>False</td>\n",
       "    </tr>\n",
       "    <tr>\n",
       "      <th>35</th>\n",
       "      <td>Lutte_Gréco_Romaine</td>\n",
       "      <td>3.352957e-01</td>\n",
       "      <td>False</td>\n",
       "    </tr>\n",
       "    <tr>\n",
       "      <th>36</th>\n",
       "      <td>Krav_Maga</td>\n",
       "      <td>1.000000e+00</td>\n",
       "      <td>False</td>\n",
       "    </tr>\n",
       "    <tr>\n",
       "      <th>37</th>\n",
       "      <td>Kung_Fu</td>\n",
       "      <td>6.209911e-02</td>\n",
       "      <td>False</td>\n",
       "    </tr>\n",
       "    <tr>\n",
       "      <th>38</th>\n",
       "      <td>Kuntao</td>\n",
       "      <td>9.694220e-01</td>\n",
       "      <td>False</td>\n",
       "    </tr>\n",
       "    <tr>\n",
       "      <th>39</th>\n",
       "      <td>Kyokushin</td>\n",
       "      <td>3.135880e-01</td>\n",
       "      <td>False</td>\n",
       "    </tr>\n",
       "    <tr>\n",
       "      <th>40</th>\n",
       "      <td>Laïdo</td>\n",
       "      <td>1.000000e+00</td>\n",
       "      <td>False</td>\n",
       "    </tr>\n",
       "    <tr>\n",
       "      <th>41</th>\n",
       "      <td>Luta_Livre</td>\n",
       "      <td>2.035036e-01</td>\n",
       "      <td>False</td>\n",
       "    </tr>\n",
       "    <tr>\n",
       "      <th>42</th>\n",
       "      <td>Judo</td>\n",
       "      <td>5.200529e-01</td>\n",
       "      <td>False</td>\n",
       "    </tr>\n",
       "    <tr>\n",
       "      <th>43</th>\n",
       "      <td>Jujitsu</td>\n",
       "      <td>1.000000e+00</td>\n",
       "      <td>False</td>\n",
       "    </tr>\n",
       "    <tr>\n",
       "      <th>44</th>\n",
       "      <td>Kajukenbo</td>\n",
       "      <td>4.168827e-01</td>\n",
       "      <td>False</td>\n",
       "    </tr>\n",
       "    <tr>\n",
       "      <th>45</th>\n",
       "      <td>Kali</td>\n",
       "      <td>1.000000e+00</td>\n",
       "      <td>False</td>\n",
       "    </tr>\n",
       "    <tr>\n",
       "      <th>46</th>\n",
       "      <td>Kapu_kuialua</td>\n",
       "      <td>1.000000e+00</td>\n",
       "      <td>False</td>\n",
       "    </tr>\n",
       "    <tr>\n",
       "      <th>47</th>\n",
       "      <td>Karaté</td>\n",
       "      <td>2.502770e-01</td>\n",
       "      <td>False</td>\n",
       "    </tr>\n",
       "    <tr>\n",
       "      <th>48</th>\n",
       "      <td>Kempo</td>\n",
       "      <td>1.000000e+00</td>\n",
       "      <td>False</td>\n",
       "    </tr>\n",
       "    <tr>\n",
       "      <th>49</th>\n",
       "      <td>Kendo</td>\n",
       "      <td>1.000000e+00</td>\n",
       "      <td>False</td>\n",
       "    </tr>\n",
       "    <tr>\n",
       "      <th>50</th>\n",
       "      <td>Jeet_Kune_Do</td>\n",
       "      <td>1.000000e+00</td>\n",
       "      <td>False</td>\n",
       "    </tr>\n",
       "    <tr>\n",
       "      <th>51</th>\n",
       "      <td>Goshin_Jutsu</td>\n",
       "      <td>1.000000e+00</td>\n",
       "      <td>False</td>\n",
       "    </tr>\n",
       "    <tr>\n",
       "      <th>52</th>\n",
       "      <td>Gwonbeop</td>\n",
       "      <td>1.000000e+00</td>\n",
       "      <td>False</td>\n",
       "    </tr>\n",
       "    <tr>\n",
       "      <th>53</th>\n",
       "      <td>Aikido</td>\n",
       "      <td>7.414519e-01</td>\n",
       "      <td>False</td>\n",
       "    </tr>\n",
       "  </tbody>\n",
       "</table>\n",
       "</div>"
      ],
      "text/plain": [
       "                feature        p_value  relationship\n",
       "0       is_home_country   1.022107e-01         False\n",
       "1          is_home_town   2.952048e-02          True\n",
       "2                  Boxe   1.007812e-12          True\n",
       "3            Gaidojutsu   1.816541e-01         False\n",
       "4               Hapkido   1.963214e-02          True\n",
       "5   Jiu_jitsu_brésilien   1.973490e-18          True\n",
       "6            Kickboxing   6.084922e-18          True\n",
       "7                 Lutte   1.428738e-13          True\n",
       "8             Muay_thaï   6.294455e-06          True\n",
       "9                 Sambo   6.005257e-06          True\n",
       "10            is_taller   2.432854e-03          True\n",
       "11             is_older   1.319862e-33          True\n",
       "12           is_heavier   3.719771e-03          True\n",
       "13      has_more_fights  3.500632e-156          True\n",
       "14       higher_allonge   5.987137e-05          True\n",
       "15           is_smaller   2.024977e-03          True\n",
       "16                Sanda   8.146718e-01         False\n",
       "17              Sanshou   1.000000e+00         False\n",
       "18               Savate   2.775385e-01         False\n",
       "19          Seidokaikan   1.000000e+00         False\n",
       "20             Shidokan   1.000000e+00         False\n",
       "21          Shootboxing   7.167373e-01         False\n",
       "22        Shootfighting   8.726443e-01         False\n",
       "23               Shooto   4.187586e-01         False\n",
       "24       Shorinji_Kempo   1.000000e+00         False\n",
       "25             Shotokan   2.011163e-01         False\n",
       "26                Silat   1.000000e+00         False\n",
       "27              Ssireum   7.467433e-01         False\n",
       "28            Taekwondo   2.031850e-01         False\n",
       "29              Tai_Chi   1.000000e+00         False\n",
       "30            Vale_tudo   1.000000e+00         False\n",
       "31             Wu_Jitsu   4.151083e-01         False\n",
       "32                Wushu   1.192753e-02          True\n",
       "33             Ninjutsu   1.000000e+00         False\n",
       "34             Pancrace   2.282394e-01         False\n",
       "35  Lutte_Gréco_Romaine   3.352957e-01         False\n",
       "36            Krav_Maga   1.000000e+00         False\n",
       "37              Kung_Fu   6.209911e-02         False\n",
       "38               Kuntao   9.694220e-01         False\n",
       "39            Kyokushin   3.135880e-01         False\n",
       "40                Laïdo   1.000000e+00         False\n",
       "41           Luta_Livre   2.035036e-01         False\n",
       "42                 Judo   5.200529e-01         False\n",
       "43              Jujitsu   1.000000e+00         False\n",
       "44            Kajukenbo   4.168827e-01         False\n",
       "45                 Kali   1.000000e+00         False\n",
       "46         Kapu_kuialua   1.000000e+00         False\n",
       "47               Karaté   2.502770e-01         False\n",
       "48                Kempo   1.000000e+00         False\n",
       "49                Kendo   1.000000e+00         False\n",
       "50         Jeet_Kune_Do   1.000000e+00         False\n",
       "51         Goshin_Jutsu   1.000000e+00         False\n",
       "52             Gwonbeop   1.000000e+00         False\n",
       "53               Aikido   7.414519e-01         False"
      ]
     },
     "execution_count": 539,
     "metadata": {},
     "output_type": "execute_result"
    }
   ],
   "source": [
    "import scipy.stats as stats\n",
    "# Hypothesis h0 = there's is no relationaship\n",
    "risk_level = 0.05\n",
    "# boucle Chi-square\n",
    "chi_square_list = []\n",
    "for i in features:\n",
    "    if df_train_pycaret2[i].nunique() <= 2:\n",
    "        CT = pd.crosstab(index=df_train_pycaret2[i], columns=df_train_pycaret2[target])\n",
    "    # Perform Chi-squared test\n",
    "        chi_res = stats.chi2_contingency(CT)\n",
    "    # Build list\n",
    "        chi_square_list.append([i, chi_res[1], chi_res[1] < risk_level])\n",
    "df_chi_square = pd.DataFrame(chi_square_list)\n",
    "df_chi_square.columns = ['feature', 'p_value', 'relationship']\n",
    "#display(df_chi_square.loc[df_chi_square['relationship']==True])\n",
    "#display(df_chi_square.loc[df_chi_square['relationship']==False])\n",
    "df_chi_square"
   ]
  },
  {
   "cell_type": "code",
   "execution_count": 540,
   "id": "187eff81",
   "metadata": {
    "scrolled": true
   },
   "outputs": [
    {
     "name": "stdout",
     "output_type": "stream",
     "text": [
      "                feature        p_value  relationship\n",
      "0       is_home_country   1.022107e-01         False\n",
      "1          is_home_town   2.952048e-02          True\n",
      "2                  Boxe   1.007812e-12          True\n",
      "3            Gaidojutsu   1.816541e-01         False\n",
      "4               Hapkido   1.963214e-02          True\n",
      "5   Jiu_jitsu_brésilien   1.973490e-18          True\n",
      "6            Kickboxing   6.084922e-18          True\n",
      "7                 Lutte   1.428738e-13          True\n",
      "8             Muay_thaï   6.294455e-06          True\n",
      "9                 Sambo   6.005257e-06          True\n",
      "10            is_taller   2.432854e-03          True\n",
      "11             is_older   1.319862e-33          True\n",
      "12           is_heavier   3.719771e-03          True\n",
      "13      has_more_fights  3.500632e-156          True\n",
      "14       higher_allonge   5.987137e-05          True\n",
      "15           is_smaller   2.024977e-03          True\n",
      "16                Sanda   8.146718e-01         False\n",
      "17              Sanshou   1.000000e+00         False\n",
      "18               Savate   2.775385e-01         False\n",
      "19          Seidokaikan   1.000000e+00         False\n",
      "20             Shidokan   1.000000e+00         False\n",
      "21          Shootboxing   7.167373e-01         False\n",
      "22        Shootfighting   8.726443e-01         False\n",
      "23               Shooto   4.187586e-01         False\n",
      "24       Shorinji_Kempo   1.000000e+00         False\n",
      "25             Shotokan   2.011163e-01         False\n",
      "26                Silat   1.000000e+00         False\n",
      "27              Ssireum   7.467433e-01         False\n",
      "28            Taekwondo   2.031850e-01         False\n",
      "29              Tai_Chi   1.000000e+00         False\n",
      "30            Vale_tudo   1.000000e+00         False\n",
      "31             Wu_Jitsu   4.151083e-01         False\n",
      "32                Wushu   1.192753e-02          True\n",
      "33             Ninjutsu   1.000000e+00         False\n",
      "34             Pancrace   2.282394e-01         False\n",
      "35  Lutte_Gréco_Romaine   3.352957e-01         False\n",
      "36            Krav_Maga   1.000000e+00         False\n",
      "37              Kung_Fu   6.209911e-02         False\n",
      "38               Kuntao   9.694220e-01         False\n",
      "39            Kyokushin   3.135880e-01         False\n",
      "40                Laïdo   1.000000e+00         False\n",
      "41           Luta_Livre   2.035036e-01         False\n",
      "42                 Judo   5.200529e-01         False\n",
      "43              Jujitsu   1.000000e+00         False\n",
      "44            Kajukenbo   4.168827e-01         False\n",
      "45                 Kali   1.000000e+00         False\n",
      "46         Kapu_kuialua   1.000000e+00         False\n",
      "47               Karaté   2.502770e-01         False\n",
      "48                Kempo   1.000000e+00         False\n",
      "49                Kendo   1.000000e+00         False\n",
      "50         Jeet_Kune_Do   1.000000e+00         False\n",
      "51         Goshin_Jutsu   1.000000e+00         False\n",
      "52             Gwonbeop   1.000000e+00         False\n",
      "53               Aikido   7.414519e-01         False\n"
     ]
    }
   ],
   "source": [
    "print(df_chi_square)"
   ]
  },
  {
   "cell_type": "markdown",
   "id": "bfe5e22a",
   "metadata": {},
   "source": [
    "## ANOVA"
   ]
  },
  {
   "cell_type": "code",
   "execution_count": 392,
   "id": "831701b9",
   "metadata": {
    "scrolled": true
   },
   "outputs": [
    {
     "data": {
      "text/html": [
       "<div>\n",
       "<style scoped>\n",
       "    .dataframe tbody tr th:only-of-type {\n",
       "        vertical-align: middle;\n",
       "    }\n",
       "\n",
       "    .dataframe tbody tr th {\n",
       "        vertical-align: top;\n",
       "    }\n",
       "\n",
       "    .dataframe thead th {\n",
       "        text-align: right;\n",
       "    }\n",
       "</style>\n",
       "<table border=\"1\" class=\"dataframe\">\n",
       "  <thead>\n",
       "    <tr style=\"text-align: right;\">\n",
       "      <th></th>\n",
       "      <th>feature</th>\n",
       "      <th>f_statistic</th>\n",
       "      <th>p_value</th>\n",
       "      <th>relationship</th>\n",
       "    </tr>\n",
       "  </thead>\n",
       "  <tbody>\n",
       "    <tr>\n",
       "      <th>0</th>\n",
       "      <td>nb_fights_diff</td>\n",
       "      <td>1422.285430</td>\n",
       "      <td>1.108287e-291</td>\n",
       "      <td>True</td>\n",
       "    </tr>\n",
       "    <tr>\n",
       "      <th>1</th>\n",
       "      <td>age_diff</td>\n",
       "      <td>232.891207</td>\n",
       "      <td>5.160851e-52</td>\n",
       "      <td>True</td>\n",
       "    </tr>\n",
       "    <tr>\n",
       "      <th>2</th>\n",
       "      <td>size_diff</td>\n",
       "      <td>13.715747</td>\n",
       "      <td>2.137748e-04</td>\n",
       "      <td>True</td>\n",
       "    </tr>\n",
       "    <tr>\n",
       "      <th>3</th>\n",
       "      <td>weight_diff</td>\n",
       "      <td>19.109239</td>\n",
       "      <td>1.246564e-05</td>\n",
       "      <td>True</td>\n",
       "    </tr>\n",
       "    <tr>\n",
       "      <th>4</th>\n",
       "      <td>win_ratio</td>\n",
       "      <td>5900.434514</td>\n",
       "      <td>0.000000e+00</td>\n",
       "      <td>True</td>\n",
       "    </tr>\n",
       "    <tr>\n",
       "      <th>5</th>\n",
       "      <td>lose_ratio</td>\n",
       "      <td>5900.434514</td>\n",
       "      <td>0.000000e+00</td>\n",
       "      <td>True</td>\n",
       "    </tr>\n",
       "    <tr>\n",
       "      <th>6</th>\n",
       "      <td>diff_allonge</td>\n",
       "      <td>12.338020</td>\n",
       "      <td>4.457266e-04</td>\n",
       "      <td>True</td>\n",
       "    </tr>\n",
       "  </tbody>\n",
       "</table>\n",
       "</div>"
      ],
      "text/plain": [
       "          feature  f_statistic        p_value  relationship\n",
       "0  nb_fights_diff  1422.285430  1.108287e-291          True\n",
       "1        age_diff   232.891207   5.160851e-52          True\n",
       "2       size_diff    13.715747   2.137748e-04          True\n",
       "3     weight_diff    19.109239   1.246564e-05          True\n",
       "4       win_ratio  5900.434514   0.000000e+00          True\n",
       "5      lose_ratio  5900.434514   0.000000e+00          True\n",
       "6    diff_allonge    12.338020   4.457266e-04          True"
      ]
     },
     "execution_count": 392,
     "metadata": {},
     "output_type": "execute_result"
    }
   ],
   "source": [
    "# Hypothesis h0 = there's is no relationaship\n",
    "risk_level = 0.05\n",
    "#boucle Anova\n",
    "anova_list = []\n",
    "for i in features:\n",
    "    if df_train_pycaret2[i].nunique() > 2:\n",
    "        win_anova = df_train_pycaret2[df_train_pycaret2['win'] == 1][i]\n",
    "        loss_anova = df_train_pycaret2[df_train_pycaret2['win'] == 0][i]\n",
    "    # Perform the ANOVA\n",
    "        f_statistic, p_value = stats.f_oneway(win_anova, loss_anova)\n",
    "    # Build list\n",
    "        anova_list.append([i, f_statistic, p_value, p_value < risk_level])\n",
    "df_anova = pd.DataFrame(anova_list)\n",
    "df_anova.columns = ['feature', 'f_statistic', 'p_value', 'relationship']\n",
    "df_anova"
   ]
  },
  {
   "cell_type": "code",
   "execution_count": 541,
   "id": "99bdfaeb",
   "metadata": {},
   "outputs": [],
   "source": [
    "columns = [\"win\",\"nb_fights_diff\",\"age_diff\",\"weight_diff\",\"win_ratio\",\"diff_allonge\",\"size_diff\", \"is_home_town\",\n",
    "       \"Boxe\",\n",
    "    \"Hapkido\",\n",
    "    \"Jiu_jitsu_brésilien\",\n",
    "    \"Kickboxing\",\n",
    "    \"Lutte\",\n",
    "    \"Muay_thaï\",\n",
    "    \"Sambo\",\n",
    "    \"is_taller\",\n",
    "    \"is_older\",\n",
    "    \"is_heavier\",\n",
    "    \"has_more_fights\",\n",
    "    \"higher_allonge\",\n",
    "    \"is_smaller\",\n",
    "    \"Wushu\"]\n",
    "    "
   ]
  },
  {
   "cell_type": "code",
   "execution_count": 542,
   "id": "cf20bee8",
   "metadata": {},
   "outputs": [],
   "source": [
    "df_train_full = df_train_pycaret2[columns]\n",
    "df_predict_full = df_predict[columns]"
   ]
  },
  {
   "cell_type": "markdown",
   "id": "357e8435",
   "metadata": {},
   "source": [
    "# PYCARET "
   ]
  },
  {
   "cell_type": "markdown",
   "id": "77111385",
   "metadata": {},
   "source": [
    "## Setup"
   ]
  },
  {
   "cell_type": "code",
   "execution_count": 543,
   "id": "ccf9ab6f",
   "metadata": {},
   "outputs": [
    {
     "data": {
      "text/html": [
       "<style type=\"text/css\">\n",
       "#T_f0716_row8_col1, #T_f0716_row12_col1 {\n",
       "  background-color: lightgreen;\n",
       "}\n",
       "</style>\n",
       "<table id=\"T_f0716\">\n",
       "  <thead>\n",
       "    <tr>\n",
       "      <th class=\"blank level0\" >&nbsp;</th>\n",
       "      <th id=\"T_f0716_level0_col0\" class=\"col_heading level0 col0\" >Description</th>\n",
       "      <th id=\"T_f0716_level0_col1\" class=\"col_heading level0 col1\" >Value</th>\n",
       "    </tr>\n",
       "  </thead>\n",
       "  <tbody>\n",
       "    <tr>\n",
       "      <th id=\"T_f0716_level0_row0\" class=\"row_heading level0 row0\" >0</th>\n",
       "      <td id=\"T_f0716_row0_col0\" class=\"data row0 col0\" >Session id</td>\n",
       "      <td id=\"T_f0716_row0_col1\" class=\"data row0 col1\" >42</td>\n",
       "    </tr>\n",
       "    <tr>\n",
       "      <th id=\"T_f0716_level0_row1\" class=\"row_heading level0 row1\" >1</th>\n",
       "      <td id=\"T_f0716_row1_col0\" class=\"data row1 col0\" >Target</td>\n",
       "      <td id=\"T_f0716_row1_col1\" class=\"data row1 col1\" >win</td>\n",
       "    </tr>\n",
       "    <tr>\n",
       "      <th id=\"T_f0716_level0_row2\" class=\"row_heading level0 row2\" >2</th>\n",
       "      <td id=\"T_f0716_row2_col0\" class=\"data row2 col0\" >Target type</td>\n",
       "      <td id=\"T_f0716_row2_col1\" class=\"data row2 col1\" >Binary</td>\n",
       "    </tr>\n",
       "    <tr>\n",
       "      <th id=\"T_f0716_level0_row3\" class=\"row_heading level0 row3\" >3</th>\n",
       "      <td id=\"T_f0716_row3_col0\" class=\"data row3 col0\" >Original data shape</td>\n",
       "      <td id=\"T_f0716_row3_col1\" class=\"data row3 col1\" >(10470, 22)</td>\n",
       "    </tr>\n",
       "    <tr>\n",
       "      <th id=\"T_f0716_level0_row4\" class=\"row_heading level0 row4\" >4</th>\n",
       "      <td id=\"T_f0716_row4_col0\" class=\"data row4 col0\" >Transformed data shape</td>\n",
       "      <td id=\"T_f0716_row4_col1\" class=\"data row4 col1\" >(10470, 22)</td>\n",
       "    </tr>\n",
       "    <tr>\n",
       "      <th id=\"T_f0716_level0_row5\" class=\"row_heading level0 row5\" >5</th>\n",
       "      <td id=\"T_f0716_row5_col0\" class=\"data row5 col0\" >Transformed train set shape</td>\n",
       "      <td id=\"T_f0716_row5_col1\" class=\"data row5 col1\" >(10306, 22)</td>\n",
       "    </tr>\n",
       "    <tr>\n",
       "      <th id=\"T_f0716_level0_row6\" class=\"row_heading level0 row6\" >6</th>\n",
       "      <td id=\"T_f0716_row6_col0\" class=\"data row6 col0\" >Transformed test set shape</td>\n",
       "      <td id=\"T_f0716_row6_col1\" class=\"data row6 col1\" >(164, 22)</td>\n",
       "    </tr>\n",
       "    <tr>\n",
       "      <th id=\"T_f0716_level0_row7\" class=\"row_heading level0 row7\" >7</th>\n",
       "      <td id=\"T_f0716_row7_col0\" class=\"data row7 col0\" >Numeric features</td>\n",
       "      <td id=\"T_f0716_row7_col1\" class=\"data row7 col1\" >21</td>\n",
       "    </tr>\n",
       "    <tr>\n",
       "      <th id=\"T_f0716_level0_row8\" class=\"row_heading level0 row8\" >8</th>\n",
       "      <td id=\"T_f0716_row8_col0\" class=\"data row8 col0\" >Preprocess</td>\n",
       "      <td id=\"T_f0716_row8_col1\" class=\"data row8 col1\" >True</td>\n",
       "    </tr>\n",
       "    <tr>\n",
       "      <th id=\"T_f0716_level0_row9\" class=\"row_heading level0 row9\" >9</th>\n",
       "      <td id=\"T_f0716_row9_col0\" class=\"data row9 col0\" >Imputation type</td>\n",
       "      <td id=\"T_f0716_row9_col1\" class=\"data row9 col1\" >simple</td>\n",
       "    </tr>\n",
       "    <tr>\n",
       "      <th id=\"T_f0716_level0_row10\" class=\"row_heading level0 row10\" >10</th>\n",
       "      <td id=\"T_f0716_row10_col0\" class=\"data row10 col0\" >Numeric imputation</td>\n",
       "      <td id=\"T_f0716_row10_col1\" class=\"data row10 col1\" >mean</td>\n",
       "    </tr>\n",
       "    <tr>\n",
       "      <th id=\"T_f0716_level0_row11\" class=\"row_heading level0 row11\" >11</th>\n",
       "      <td id=\"T_f0716_row11_col0\" class=\"data row11 col0\" >Categorical imputation</td>\n",
       "      <td id=\"T_f0716_row11_col1\" class=\"data row11 col1\" >mode</td>\n",
       "    </tr>\n",
       "    <tr>\n",
       "      <th id=\"T_f0716_level0_row12\" class=\"row_heading level0 row12\" >12</th>\n",
       "      <td id=\"T_f0716_row12_col0\" class=\"data row12 col0\" >Normalize</td>\n",
       "      <td id=\"T_f0716_row12_col1\" class=\"data row12 col1\" >True</td>\n",
       "    </tr>\n",
       "    <tr>\n",
       "      <th id=\"T_f0716_level0_row13\" class=\"row_heading level0 row13\" >13</th>\n",
       "      <td id=\"T_f0716_row13_col0\" class=\"data row13 col0\" >Normalize method</td>\n",
       "      <td id=\"T_f0716_row13_col1\" class=\"data row13 col1\" >zscore</td>\n",
       "    </tr>\n",
       "    <tr>\n",
       "      <th id=\"T_f0716_level0_row14\" class=\"row_heading level0 row14\" >14</th>\n",
       "      <td id=\"T_f0716_row14_col0\" class=\"data row14 col0\" >Fold Generator</td>\n",
       "      <td id=\"T_f0716_row14_col1\" class=\"data row14 col1\" >StratifiedKFold</td>\n",
       "    </tr>\n",
       "    <tr>\n",
       "      <th id=\"T_f0716_level0_row15\" class=\"row_heading level0 row15\" >15</th>\n",
       "      <td id=\"T_f0716_row15_col0\" class=\"data row15 col0\" >Fold Number</td>\n",
       "      <td id=\"T_f0716_row15_col1\" class=\"data row15 col1\" >10</td>\n",
       "    </tr>\n",
       "    <tr>\n",
       "      <th id=\"T_f0716_level0_row16\" class=\"row_heading level0 row16\" >16</th>\n",
       "      <td id=\"T_f0716_row16_col0\" class=\"data row16 col0\" >CPU Jobs</td>\n",
       "      <td id=\"T_f0716_row16_col1\" class=\"data row16 col1\" >-1</td>\n",
       "    </tr>\n",
       "    <tr>\n",
       "      <th id=\"T_f0716_level0_row17\" class=\"row_heading level0 row17\" >17</th>\n",
       "      <td id=\"T_f0716_row17_col0\" class=\"data row17 col0\" >Use GPU</td>\n",
       "      <td id=\"T_f0716_row17_col1\" class=\"data row17 col1\" >False</td>\n",
       "    </tr>\n",
       "    <tr>\n",
       "      <th id=\"T_f0716_level0_row18\" class=\"row_heading level0 row18\" >18</th>\n",
       "      <td id=\"T_f0716_row18_col0\" class=\"data row18 col0\" >Log Experiment</td>\n",
       "      <td id=\"T_f0716_row18_col1\" class=\"data row18 col1\" >False</td>\n",
       "    </tr>\n",
       "    <tr>\n",
       "      <th id=\"T_f0716_level0_row19\" class=\"row_heading level0 row19\" >19</th>\n",
       "      <td id=\"T_f0716_row19_col0\" class=\"data row19 col0\" >Experiment Name</td>\n",
       "      <td id=\"T_f0716_row19_col1\" class=\"data row19 col1\" >clf-default-name</td>\n",
       "    </tr>\n",
       "    <tr>\n",
       "      <th id=\"T_f0716_level0_row20\" class=\"row_heading level0 row20\" >20</th>\n",
       "      <td id=\"T_f0716_row20_col0\" class=\"data row20 col0\" >USI</td>\n",
       "      <td id=\"T_f0716_row20_col1\" class=\"data row20 col1\" >d70e</td>\n",
       "    </tr>\n",
       "  </tbody>\n",
       "</table>\n"
      ],
      "text/plain": [
       "<pandas.io.formats.style.Styler at 0x27899fc7d10>"
      ]
     },
     "metadata": {},
     "output_type": "display_data"
    }
   ],
   "source": [
    "from pycaret.classification import setup\n",
    "\n",
    "xp = setup(data = df_train_full,\n",
    "           test_data = df_predict_full,\n",
    "           target = \"win\",\n",
    "           session_id = 42,\n",
    "           normalize=True,\n",
    "           index=False)"
   ]
  },
  {
   "cell_type": "markdown",
   "id": "52b49a0d",
   "metadata": {},
   "source": [
    "## Best Model"
   ]
  },
  {
   "cell_type": "code",
   "execution_count": 544,
   "id": "dc30c8f9",
   "metadata": {
    "scrolled": true
   },
   "outputs": [
    {
     "data": {
      "text/html": [],
      "text/plain": [
       "<IPython.core.display.HTML object>"
      ]
     },
     "metadata": {},
     "output_type": "display_data"
    },
    {
     "data": {
      "text/html": [
       "<style type=\"text/css\">\n",
       "#T_a9599 th {\n",
       "  text-align: left;\n",
       "}\n",
       "#T_a9599_row0_col0, #T_a9599_row0_col2, #T_a9599_row0_col3, #T_a9599_row0_col4, #T_a9599_row1_col0, #T_a9599_row1_col1, #T_a9599_row1_col3, #T_a9599_row1_col4, #T_a9599_row1_col5, #T_a9599_row1_col6, #T_a9599_row1_col7, #T_a9599_row2_col0, #T_a9599_row2_col1, #T_a9599_row2_col2, #T_a9599_row2_col3, #T_a9599_row2_col4, #T_a9599_row2_col5, #T_a9599_row2_col6, #T_a9599_row2_col7, #T_a9599_row3_col0, #T_a9599_row3_col1, #T_a9599_row3_col2, #T_a9599_row3_col3, #T_a9599_row3_col4, #T_a9599_row3_col5, #T_a9599_row3_col6, #T_a9599_row3_col7, #T_a9599_row4_col0, #T_a9599_row4_col1, #T_a9599_row4_col2, #T_a9599_row4_col3, #T_a9599_row4_col4, #T_a9599_row4_col5, #T_a9599_row4_col6, #T_a9599_row4_col7, #T_a9599_row5_col0, #T_a9599_row5_col1, #T_a9599_row5_col2, #T_a9599_row5_col3, #T_a9599_row5_col4, #T_a9599_row5_col5, #T_a9599_row5_col6, #T_a9599_row5_col7, #T_a9599_row6_col0, #T_a9599_row6_col1, #T_a9599_row6_col2, #T_a9599_row6_col4, #T_a9599_row6_col5, #T_a9599_row6_col6, #T_a9599_row6_col7, #T_a9599_row7_col0, #T_a9599_row7_col1, #T_a9599_row7_col2, #T_a9599_row7_col3, #T_a9599_row7_col4, #T_a9599_row7_col5, #T_a9599_row7_col6, #T_a9599_row7_col7, #T_a9599_row8_col0, #T_a9599_row8_col1, #T_a9599_row8_col2, #T_a9599_row8_col3, #T_a9599_row8_col4, #T_a9599_row8_col5, #T_a9599_row8_col6, #T_a9599_row8_col7, #T_a9599_row9_col0, #T_a9599_row9_col1, #T_a9599_row9_col2, #T_a9599_row9_col3, #T_a9599_row9_col4, #T_a9599_row9_col5, #T_a9599_row9_col6, #T_a9599_row9_col7, #T_a9599_row10_col0, #T_a9599_row10_col1, #T_a9599_row10_col2, #T_a9599_row10_col3, #T_a9599_row10_col5, #T_a9599_row10_col6, #T_a9599_row10_col7, #T_a9599_row11_col0, #T_a9599_row11_col1, #T_a9599_row11_col2, #T_a9599_row11_col3, #T_a9599_row11_col4, #T_a9599_row11_col5, #T_a9599_row11_col6, #T_a9599_row11_col7, #T_a9599_row12_col0, #T_a9599_row12_col1, #T_a9599_row12_col2, #T_a9599_row12_col3, #T_a9599_row12_col4, #T_a9599_row12_col5, #T_a9599_row12_col6, #T_a9599_row12_col7, #T_a9599_row13_col0, #T_a9599_row13_col1, #T_a9599_row13_col2, #T_a9599_row13_col3, #T_a9599_row13_col4, #T_a9599_row13_col5, #T_a9599_row13_col6, #T_a9599_row13_col7 {\n",
       "  text-align: left;\n",
       "}\n",
       "#T_a9599_row0_col1, #T_a9599_row0_col5, #T_a9599_row0_col6, #T_a9599_row0_col7, #T_a9599_row1_col2, #T_a9599_row6_col3, #T_a9599_row10_col4 {\n",
       "  text-align: left;\n",
       "  background-color: yellow;\n",
       "}\n",
       "#T_a9599_row0_col8, #T_a9599_row1_col8, #T_a9599_row2_col8, #T_a9599_row3_col8, #T_a9599_row4_col8, #T_a9599_row5_col8, #T_a9599_row6_col8, #T_a9599_row7_col8, #T_a9599_row8_col8, #T_a9599_row9_col8, #T_a9599_row10_col8, #T_a9599_row11_col8, #T_a9599_row12_col8 {\n",
       "  text-align: left;\n",
       "  background-color: lightgrey;\n",
       "}\n",
       "#T_a9599_row13_col8 {\n",
       "  text-align: left;\n",
       "  background-color: yellow;\n",
       "  background-color: lightgrey;\n",
       "}\n",
       "</style>\n",
       "<table id=\"T_a9599\">\n",
       "  <thead>\n",
       "    <tr>\n",
       "      <th class=\"blank level0\" >&nbsp;</th>\n",
       "      <th id=\"T_a9599_level0_col0\" class=\"col_heading level0 col0\" >Model</th>\n",
       "      <th id=\"T_a9599_level0_col1\" class=\"col_heading level0 col1\" >Accuracy</th>\n",
       "      <th id=\"T_a9599_level0_col2\" class=\"col_heading level0 col2\" >AUC</th>\n",
       "      <th id=\"T_a9599_level0_col3\" class=\"col_heading level0 col3\" >Recall</th>\n",
       "      <th id=\"T_a9599_level0_col4\" class=\"col_heading level0 col4\" >Prec.</th>\n",
       "      <th id=\"T_a9599_level0_col5\" class=\"col_heading level0 col5\" >F1</th>\n",
       "      <th id=\"T_a9599_level0_col6\" class=\"col_heading level0 col6\" >Kappa</th>\n",
       "      <th id=\"T_a9599_level0_col7\" class=\"col_heading level0 col7\" >MCC</th>\n",
       "      <th id=\"T_a9599_level0_col8\" class=\"col_heading level0 col8\" >TT (Sec)</th>\n",
       "    </tr>\n",
       "  </thead>\n",
       "  <tbody>\n",
       "    <tr>\n",
       "      <th id=\"T_a9599_level0_row0\" class=\"row_heading level0 row0\" >gbc</th>\n",
       "      <td id=\"T_a9599_row0_col0\" class=\"data row0 col0\" >Gradient Boosting Classifier</td>\n",
       "      <td id=\"T_a9599_row0_col1\" class=\"data row0 col1\" >0.8419</td>\n",
       "      <td id=\"T_a9599_row0_col2\" class=\"data row0 col2\" >0.9289</td>\n",
       "      <td id=\"T_a9599_row0_col3\" class=\"data row0 col3\" >0.7980</td>\n",
       "      <td id=\"T_a9599_row0_col4\" class=\"data row0 col4\" >0.8688</td>\n",
       "      <td id=\"T_a9599_row0_col5\" class=\"data row0 col5\" >0.8314</td>\n",
       "      <td id=\"T_a9599_row0_col6\" class=\"data row0 col6\" >0.6832</td>\n",
       "      <td id=\"T_a9599_row0_col7\" class=\"data row0 col7\" >0.6859</td>\n",
       "      <td id=\"T_a9599_row0_col8\" class=\"data row0 col8\" >0.1430</td>\n",
       "    </tr>\n",
       "    <tr>\n",
       "      <th id=\"T_a9599_level0_row1\" class=\"row_heading level0 row1\" >lightgbm</th>\n",
       "      <td id=\"T_a9599_row1_col0\" class=\"data row1 col0\" >Light Gradient Boosting Machine</td>\n",
       "      <td id=\"T_a9599_row1_col1\" class=\"data row1 col1\" >0.8412</td>\n",
       "      <td id=\"T_a9599_row1_col2\" class=\"data row1 col2\" >0.9293</td>\n",
       "      <td id=\"T_a9599_row1_col3\" class=\"data row1 col3\" >0.7984</td>\n",
       "      <td id=\"T_a9599_row1_col4\" class=\"data row1 col4\" >0.8671</td>\n",
       "      <td id=\"T_a9599_row1_col5\" class=\"data row1 col5\" >0.8309</td>\n",
       "      <td id=\"T_a9599_row1_col6\" class=\"data row1 col6\" >0.6816</td>\n",
       "      <td id=\"T_a9599_row1_col7\" class=\"data row1 col7\" >0.6842</td>\n",
       "      <td id=\"T_a9599_row1_col8\" class=\"data row1 col8\" >0.0970</td>\n",
       "    </tr>\n",
       "    <tr>\n",
       "      <th id=\"T_a9599_level0_row2\" class=\"row_heading level0 row2\" >rf</th>\n",
       "      <td id=\"T_a9599_row2_col0\" class=\"data row2 col0\" >Random Forest Classifier</td>\n",
       "      <td id=\"T_a9599_row2_col1\" class=\"data row2 col1\" >0.8355</td>\n",
       "      <td id=\"T_a9599_row2_col2\" class=\"data row2 col2\" >0.9191</td>\n",
       "      <td id=\"T_a9599_row2_col3\" class=\"data row2 col3\" >0.7837</td>\n",
       "      <td id=\"T_a9599_row2_col4\" class=\"data row2 col4\" >0.8679</td>\n",
       "      <td id=\"T_a9599_row2_col5\" class=\"data row2 col5\" >0.8233</td>\n",
       "      <td id=\"T_a9599_row2_col6\" class=\"data row2 col6\" >0.6702</td>\n",
       "      <td id=\"T_a9599_row2_col7\" class=\"data row2 col7\" >0.6737</td>\n",
       "      <td id=\"T_a9599_row2_col8\" class=\"data row2 col8\" >0.1280</td>\n",
       "    </tr>\n",
       "    <tr>\n",
       "      <th id=\"T_a9599_level0_row3\" class=\"row_heading level0 row3\" >lr</th>\n",
       "      <td id=\"T_a9599_row3_col0\" class=\"data row3 col0\" >Logistic Regression</td>\n",
       "      <td id=\"T_a9599_row3_col1\" class=\"data row3 col1\" >0.8224</td>\n",
       "      <td id=\"T_a9599_row3_col2\" class=\"data row3 col2\" >0.9077</td>\n",
       "      <td id=\"T_a9599_row3_col3\" class=\"data row3 col3\" >0.8035</td>\n",
       "      <td id=\"T_a9599_row3_col4\" class=\"data row3 col4\" >0.8290</td>\n",
       "      <td id=\"T_a9599_row3_col5\" class=\"data row3 col5\" >0.8157</td>\n",
       "      <td id=\"T_a9599_row3_col6\" class=\"data row3 col6\" >0.6445</td>\n",
       "      <td id=\"T_a9599_row3_col7\" class=\"data row3 col7\" >0.6453</td>\n",
       "      <td id=\"T_a9599_row3_col8\" class=\"data row3 col8\" >0.3690</td>\n",
       "    </tr>\n",
       "    <tr>\n",
       "      <th id=\"T_a9599_level0_row4\" class=\"row_heading level0 row4\" >ridge</th>\n",
       "      <td id=\"T_a9599_row4_col0\" class=\"data row4 col0\" >Ridge Classifier</td>\n",
       "      <td id=\"T_a9599_row4_col1\" class=\"data row4 col1\" >0.8202</td>\n",
       "      <td id=\"T_a9599_row4_col2\" class=\"data row4 col2\" >0.9080</td>\n",
       "      <td id=\"T_a9599_row4_col3\" class=\"data row4 col3\" >0.8099</td>\n",
       "      <td id=\"T_a9599_row4_col4\" class=\"data row4 col4\" >0.8210</td>\n",
       "      <td id=\"T_a9599_row4_col5\" class=\"data row4 col5\" >0.8150</td>\n",
       "      <td id=\"T_a9599_row4_col6\" class=\"data row4 col6\" >0.6401</td>\n",
       "      <td id=\"T_a9599_row4_col7\" class=\"data row4 col7\" >0.6407</td>\n",
       "      <td id=\"T_a9599_row4_col8\" class=\"data row4 col8\" >0.0090</td>\n",
       "    </tr>\n",
       "    <tr>\n",
       "      <th id=\"T_a9599_level0_row5\" class=\"row_heading level0 row5\" >lda</th>\n",
       "      <td id=\"T_a9599_row5_col0\" class=\"data row5 col0\" >Linear Discriminant Analysis</td>\n",
       "      <td id=\"T_a9599_row5_col1\" class=\"data row5 col1\" >0.8202</td>\n",
       "      <td id=\"T_a9599_row5_col2\" class=\"data row5 col2\" >0.9081</td>\n",
       "      <td id=\"T_a9599_row5_col3\" class=\"data row5 col3\" >0.8099</td>\n",
       "      <td id=\"T_a9599_row5_col4\" class=\"data row5 col4\" >0.8210</td>\n",
       "      <td id=\"T_a9599_row5_col5\" class=\"data row5 col5\" >0.8150</td>\n",
       "      <td id=\"T_a9599_row5_col6\" class=\"data row5 col6\" >0.6401</td>\n",
       "      <td id=\"T_a9599_row5_col7\" class=\"data row5 col7\" >0.6407</td>\n",
       "      <td id=\"T_a9599_row5_col8\" class=\"data row5 col8\" >0.0110</td>\n",
       "    </tr>\n",
       "    <tr>\n",
       "      <th id=\"T_a9599_level0_row6\" class=\"row_heading level0 row6\" >ada</th>\n",
       "      <td id=\"T_a9599_row6_col0\" class=\"data row6 col0\" >Ada Boost Classifier</td>\n",
       "      <td id=\"T_a9599_row6_col1\" class=\"data row6 col1\" >0.8188</td>\n",
       "      <td id=\"T_a9599_row6_col2\" class=\"data row6 col2\" >0.9108</td>\n",
       "      <td id=\"T_a9599_row6_col3\" class=\"data row6 col3\" >0.8125</td>\n",
       "      <td id=\"T_a9599_row6_col4\" class=\"data row6 col4\" >0.8167</td>\n",
       "      <td id=\"T_a9599_row6_col5\" class=\"data row6 col5\" >0.8143</td>\n",
       "      <td id=\"T_a9599_row6_col6\" class=\"data row6 col6\" >0.6375</td>\n",
       "      <td id=\"T_a9599_row6_col7\" class=\"data row6 col7\" >0.6379</td>\n",
       "      <td id=\"T_a9599_row6_col8\" class=\"data row6 col8\" >0.0560</td>\n",
       "    </tr>\n",
       "    <tr>\n",
       "      <th id=\"T_a9599_level0_row7\" class=\"row_heading level0 row7\" >et</th>\n",
       "      <td id=\"T_a9599_row7_col0\" class=\"data row7 col0\" >Extra Trees Classifier</td>\n",
       "      <td id=\"T_a9599_row7_col1\" class=\"data row7 col1\" >0.8166</td>\n",
       "      <td id=\"T_a9599_row7_col2\" class=\"data row7 col2\" >0.9072</td>\n",
       "      <td id=\"T_a9599_row7_col3\" class=\"data row7 col3\" >0.7787</td>\n",
       "      <td id=\"T_a9599_row7_col4\" class=\"data row7 col4\" >0.8358</td>\n",
       "      <td id=\"T_a9599_row7_col5\" class=\"data row7 col5\" >0.8059</td>\n",
       "      <td id=\"T_a9599_row7_col6\" class=\"data row7 col6\" >0.6325</td>\n",
       "      <td id=\"T_a9599_row7_col7\" class=\"data row7 col7\" >0.6343</td>\n",
       "      <td id=\"T_a9599_row7_col8\" class=\"data row7 col8\" >0.1180</td>\n",
       "    </tr>\n",
       "    <tr>\n",
       "      <th id=\"T_a9599_level0_row8\" class=\"row_heading level0 row8\" >svm</th>\n",
       "      <td id=\"T_a9599_row8_col0\" class=\"data row8 col0\" >SVM - Linear Kernel</td>\n",
       "      <td id=\"T_a9599_row8_col1\" class=\"data row8 col1\" >0.8129</td>\n",
       "      <td id=\"T_a9599_row8_col2\" class=\"data row8 col2\" >0.8984</td>\n",
       "      <td id=\"T_a9599_row8_col3\" class=\"data row8 col3\" >0.7624</td>\n",
       "      <td id=\"T_a9599_row8_col4\" class=\"data row8 col4\" >0.8423</td>\n",
       "      <td id=\"T_a9599_row8_col5\" class=\"data row8 col5\" >0.7991</td>\n",
       "      <td id=\"T_a9599_row8_col6\" class=\"data row8 col6\" >0.6249</td>\n",
       "      <td id=\"T_a9599_row8_col7\" class=\"data row8 col7\" >0.6291</td>\n",
       "      <td id=\"T_a9599_row8_col8\" class=\"data row8 col8\" >0.0150</td>\n",
       "    </tr>\n",
       "    <tr>\n",
       "      <th id=\"T_a9599_level0_row9\" class=\"row_heading level0 row9\" >dt</th>\n",
       "      <td id=\"T_a9599_row9_col0\" class=\"data row9 col0\" >Decision Tree Classifier</td>\n",
       "      <td id=\"T_a9599_row9_col1\" class=\"data row9 col1\" >0.7856</td>\n",
       "      <td id=\"T_a9599_row9_col2\" class=\"data row9 col2\" >0.7857</td>\n",
       "      <td id=\"T_a9599_row9_col3\" class=\"data row9 col3\" >0.7926</td>\n",
       "      <td id=\"T_a9599_row9_col4\" class=\"data row9 col4\" >0.7745</td>\n",
       "      <td id=\"T_a9599_row9_col5\" class=\"data row9 col5\" >0.7832</td>\n",
       "      <td id=\"T_a9599_row9_col6\" class=\"data row9 col6\" >0.5711</td>\n",
       "      <td id=\"T_a9599_row9_col7\" class=\"data row9 col7\" >0.5716</td>\n",
       "      <td id=\"T_a9599_row9_col8\" class=\"data row9 col8\" >0.0140</td>\n",
       "    </tr>\n",
       "    <tr>\n",
       "      <th id=\"T_a9599_level0_row10\" class=\"row_heading level0 row10\" >qda</th>\n",
       "      <td id=\"T_a9599_row10_col0\" class=\"data row10 col0\" >Quadratic Discriminant Analysis</td>\n",
       "      <td id=\"T_a9599_row10_col1\" class=\"data row10 col1\" >0.7743</td>\n",
       "      <td id=\"T_a9599_row10_col2\" class=\"data row10 col2\" >0.8842</td>\n",
       "      <td id=\"T_a9599_row10_col3\" class=\"data row10 col3\" >0.6047</td>\n",
       "      <td id=\"T_a9599_row10_col4\" class=\"data row10 col4\" >0.9019</td>\n",
       "      <td id=\"T_a9599_row10_col5\" class=\"data row10 col5\" >0.7234</td>\n",
       "      <td id=\"T_a9599_row10_col6\" class=\"data row10 col6\" >0.5451</td>\n",
       "      <td id=\"T_a9599_row10_col7\" class=\"data row10 col7\" >0.5767</td>\n",
       "      <td id=\"T_a9599_row10_col8\" class=\"data row10 col8\" >0.0120</td>\n",
       "    </tr>\n",
       "    <tr>\n",
       "      <th id=\"T_a9599_level0_row11\" class=\"row_heading level0 row11\" >knn</th>\n",
       "      <td id=\"T_a9599_row11_col0\" class=\"data row11 col0\" >K Neighbors Classifier</td>\n",
       "      <td id=\"T_a9599_row11_col1\" class=\"data row11 col1\" >0.7522</td>\n",
       "      <td id=\"T_a9599_row11_col2\" class=\"data row11 col2\" >0.8215</td>\n",
       "      <td id=\"T_a9599_row11_col3\" class=\"data row11 col3\" >0.7444</td>\n",
       "      <td id=\"T_a9599_row11_col4\" class=\"data row11 col4\" >0.7483</td>\n",
       "      <td id=\"T_a9599_row11_col5\" class=\"data row11 col5\" >0.7459</td>\n",
       "      <td id=\"T_a9599_row11_col6\" class=\"data row11 col6\" >0.5041</td>\n",
       "      <td id=\"T_a9599_row11_col7\" class=\"data row11 col7\" >0.5047</td>\n",
       "      <td id=\"T_a9599_row11_col8\" class=\"data row11 col8\" >0.2050</td>\n",
       "    </tr>\n",
       "    <tr>\n",
       "      <th id=\"T_a9599_level0_row12\" class=\"row_heading level0 row12\" >nb</th>\n",
       "      <td id=\"T_a9599_row12_col0\" class=\"data row12 col0\" >Naive Bayes</td>\n",
       "      <td id=\"T_a9599_row12_col1\" class=\"data row12 col1\" >0.7423</td>\n",
       "      <td id=\"T_a9599_row12_col2\" class=\"data row12 col2\" >0.8625</td>\n",
       "      <td id=\"T_a9599_row12_col3\" class=\"data row12 col3\" >0.5457</td>\n",
       "      <td id=\"T_a9599_row12_col4\" class=\"data row12 col4\" >0.8833</td>\n",
       "      <td id=\"T_a9599_row12_col5\" class=\"data row12 col5\" >0.6736</td>\n",
       "      <td id=\"T_a9599_row12_col6\" class=\"data row12 col6\" >0.4800</td>\n",
       "      <td id=\"T_a9599_row12_col7\" class=\"data row12 col7\" >0.5187</td>\n",
       "      <td id=\"T_a9599_row12_col8\" class=\"data row12 col8\" >0.0090</td>\n",
       "    </tr>\n",
       "    <tr>\n",
       "      <th id=\"T_a9599_level0_row13\" class=\"row_heading level0 row13\" >dummy</th>\n",
       "      <td id=\"T_a9599_row13_col0\" class=\"data row13 col0\" >Dummy Classifier</td>\n",
       "      <td id=\"T_a9599_row13_col1\" class=\"data row13 col1\" >0.5111</td>\n",
       "      <td id=\"T_a9599_row13_col2\" class=\"data row13 col2\" >0.5000</td>\n",
       "      <td id=\"T_a9599_row13_col3\" class=\"data row13 col3\" >0.0000</td>\n",
       "      <td id=\"T_a9599_row13_col4\" class=\"data row13 col4\" >0.0000</td>\n",
       "      <td id=\"T_a9599_row13_col5\" class=\"data row13 col5\" >0.0000</td>\n",
       "      <td id=\"T_a9599_row13_col6\" class=\"data row13 col6\" >0.0000</td>\n",
       "      <td id=\"T_a9599_row13_col7\" class=\"data row13 col7\" >0.0000</td>\n",
       "      <td id=\"T_a9599_row13_col8\" class=\"data row13 col8\" >0.0080</td>\n",
       "    </tr>\n",
       "  </tbody>\n",
       "</table>\n"
      ],
      "text/plain": [
       "<pandas.io.formats.style.Styler at 0x2788534c6d0>"
      ]
     },
     "metadata": {},
     "output_type": "display_data"
    },
    {
     "data": {
      "text/html": [],
      "text/plain": [
       "<IPython.core.display.HTML object>"
      ]
     },
     "metadata": {},
     "output_type": "display_data"
    }
   ],
   "source": [
    "from pycaret.classification import compare_models\n",
    "\n",
    "best_model = compare_models()"
   ]
  },
  {
   "cell_type": "markdown",
   "id": "bb323229",
   "metadata": {},
   "source": [
    "## Features Importance"
   ]
  },
  {
   "cell_type": "code",
   "execution_count": 598,
   "id": "84464748",
   "metadata": {
    "scrolled": true
   },
   "outputs": [
    {
     "data": {
      "text/html": [],
      "text/plain": [
       "<IPython.core.display.HTML object>"
      ]
     },
     "metadata": {},
     "output_type": "display_data"
    },
    {
     "data": {
      "image/png": "[encoded data removed]",
      "text/plain": [
       "<Figure size 800x500 with 1 Axes>"
      ]
     },
     "metadata": {},
     "output_type": "display_data"
    }
   ],
   "source": [
    "from pycaret.classification import plot_model\n",
    "plot_model(best_model, plot='feature')"
   ]
  },
  {
   "cell_type": "code",
   "execution_count": 698,
   "id": "f19fd900",
   "metadata": {},
   "outputs": [
    {
     "data": {
      "image/png": "[encoded data removed]",
      "text/plain": [
       "<Figure size 1300x800 with 1 Axes>"
      ]
     },
     "metadata": {},
     "output_type": "display_data"
    }
   ],
   "source": [
    "# Obtenez l'importance des caractéristiques du modèle\n",
    "feature_importance = pd.Series(best_model.feature_importances_, index=best_model.feature_names_in_).sort_values(ascending=True)\n",
    "top_features = feature_importance.nlargest(7).sort_values(ascending=True)\n",
    "# Créez un graphique d'importance des caractéristiques avec Matplotlib\n",
    "fig, ax = plt.subplots(figsize=(13, 8))\n",
    "# bars = ax.barh(top_features.index, top_features, color='#AB0000')\n",
    "\n",
    "for i, (feature, importance) in enumerate(top_features.items()):\n",
    "    ax.hlines(y=i, xmin=0, xmax=importance, color='#AB0000', linewidth=2)\n",
    "    ax.plot(importance, i, 'o', color='#AB0000', markersize=10)  # Cercle rouge au niveau de la valeur\n",
    "\n",
    "# Fond gris\n",
    "fig.patch.set_facecolor('#191919')  # Fond de la figure en gris foncé\n",
    "ax.set_facecolor('grey')  # Fond de l'axe en gris\n",
    "\n",
    "for i, importance in enumerate(top_features.values):\n",
    "    ax.annotate(f'{importance:.5f}', xy=(importance, i), xytext=(5, 0),\n",
    "                textcoords=\"offset points\", ha='left', va='center', color='white')\n",
    "\n",
    "# Configuration des axes\n",
    "ax.set_yticks(range(len(top_features)))\n",
    "ax.set_yticklabels(top_features.index, color='white')  # Noms des caractéristiques en blanc\n",
    "ax.set_xlabel('Importance', color='white')  # Label de l'axe X en blanc\n",
    "\n",
    "# Personnalisation des ticks\n",
    "# ax.tick_params(axis='y', colors='white')\n",
    "ax.tick_params(axis='x', colors='white')\n",
    "ax.spines['bottom'].set_color('white')\n",
    "# ax.spines['left'].set_color('white')\n",
    "# ax.spines['top'].set_color('white')\n",
    "# ax.spines['right'].set_color('white')\n",
    "\n",
    "# # Ajoutez les valeurs à côté des cercles\n",
    "# for i, importance in enumerate(top_features.values):\n",
    "#     ax.annotate(f'{importance:.2f}', xy=(importance, i), xytext=(3,0),\n",
    "#                 textcoords=\"offset points\", ha='left', va='center', color='white')\n",
    "    \n",
    "\n",
    "# Activer le quadrillage vertical uniquement\n",
    "ax.grid(True, axis='x', color='white')\n",
    "ax.grid(True, axis='y', color='grey', linestyle='--', linewidth=0.5,)\n",
    "\n",
    "\n",
    "# Personnalisation supplémentaire (titre, labels, etc.)\n",
    "ax.set_title('Exemple de Graphique', fontsize=10)\n",
    "ax.set_xlabel('Axe X', fontsize=12)\n",
    "ax.set_ylabel('Axe Y', fontsize=12)\n",
    "\n",
    "fig.tight_layout(rect=[0, 0, 0.8, 0.7])  # Ajustement des marges et de la couleur de fond\n",
    "\n",
    "# Titre avec couleur blanche\n",
    "plt.title('7 caractéristiques principales du modèle', color='white')\n",
    "\n",
    "# Sauvegardez le graphique avec le fond et les personnalisations\n",
    "fig.savefig('feature_importance_lines_with_circles.png', bbox_inches='tight', facecolor=fig.get_facecolor())\n",
    "\n",
    "# Affichez le graphique\n",
    "plt.show()\n"
   ]
  },
  {
   "cell_type": "markdown",
   "id": "888f607c",
   "metadata": {},
   "source": [
    "# MODELE DE PREDICTION"
   ]
  },
  {
   "cell_type": "markdown",
   "id": "9ceaf3f5",
   "metadata": {},
   "source": [
    "## Test & Train"
   ]
  },
  {
   "cell_type": "code",
   "execution_count": 398,
   "id": "d13d69d6",
   "metadata": {},
   "outputs": [],
   "source": [
    "X = df_train_full.drop(columns =['win'],axis=1)\n",
    "y = df_train_full.win"
   ]
  },
  {
   "cell_type": "code",
   "execution_count": 399,
   "id": "13d6da90",
   "metadata": {},
   "outputs": [],
   "source": [
    "from sklearn.model_selection import train_test_split\n",
    "\n",
    "X_train, X_test, y_train, y_test = train_test_split(X, y, test_size=.2, random_state=30)"
   ]
  },
  {
   "cell_type": "code",
   "execution_count": 400,
   "id": "b319528c",
   "metadata": {},
   "outputs": [],
   "source": [
    "from sklearn.preprocessing import StandardScaler\n",
    "\n",
    "scaler = StandardScaler()\n",
    "X_train_scaled = scaler.fit_transform(X_train)\n",
    "X_test_scaled = scaler.transform(X_test)"
   ]
  },
  {
   "cell_type": "markdown",
   "id": "4e3f889d",
   "metadata": {},
   "source": [
    "## Regression Logistic "
   ]
  },
  {
   "cell_type": "code",
   "execution_count": 401,
   "id": "ee3da69c",
   "metadata": {},
   "outputs": [
    {
     "name": "stdout",
     "output_type": "stream",
     "text": [
      "Test model has accuracy of 0.8123181377303589\n",
      "Train model has accuracy of 0.8266618146530811\n"
     ]
    }
   ],
   "source": [
    "from sklearn.linear_model import LogisticRegression\n",
    "\n",
    "log_model = LogisticRegression()\n",
    "\n",
    "log_model.fit(X_train_scaled, y_train)\n",
    "\n",
    "test_accuracy = log_model.score(X_test_scaled, y_test)\n",
    "print(f\"Test model has accuracy of {test_accuracy}\")\n",
    "\n",
    "train_accuracy = log_model.score(X_train_scaled, y_train)\n",
    "print(f\"Train model has accuracy of {train_accuracy}\")"
   ]
  },
  {
   "cell_type": "markdown",
   "id": "7fe8a3e4",
   "metadata": {},
   "source": [
    "## Accuracy"
   ]
  },
  {
   "cell_type": "code",
   "execution_count": 402,
   "id": "6394d37f",
   "metadata": {},
   "outputs": [
    {
     "name": "stdout",
     "output_type": "stream",
     "text": [
      "Pred model has accuracy of 0.8123181377303589\n"
     ]
    }
   ],
   "source": [
    "from sklearn.metrics import accuracy_score\n",
    "\n",
    "y_pred = log_model.predict(X_test_scaled)\n",
    "\n",
    "pred_accuracy = accuracy_score(y_test, y_pred)\n",
    "print(f\"Pred model has accuracy of {pred_accuracy}\")"
   ]
  },
  {
   "cell_type": "markdown",
   "id": "c148e843",
   "metadata": {},
   "source": [
    "## Confusion Matrix"
   ]
  },
  {
   "cell_type": "code",
   "execution_count": 403,
   "id": "6b7da416",
   "metadata": {
    "scrolled": true
   },
   "outputs": [
    {
     "data": {
      "image/png": "[encoded data removed]",
      "text/plain": [
       "<Figure size 800x550 with 2 Axes>"
      ]
     },
     "metadata": {},
     "output_type": "display_data"
    }
   ],
   "source": [
    "from sklearn.metrics import ConfusionMatrixDisplay\n",
    "\n",
    "confusion_matrix = ConfusionMatrixDisplay.from_estimator(log_model, X_test_scaled, y_test)"
   ]
  },
  {
   "cell_type": "code",
   "execution_count": 583,
   "id": "85883f56",
   "metadata": {},
   "outputs": [
    {
     "data": {
      "image/png": "[encoded data removed]",
      "text/plain": [
       "<Figure size 800x500 with 2 Axes>"
      ]
     },
     "metadata": {},
     "output_type": "display_data"
    }
   ],
   "source": [
    "from matplotlib.colors import LinearSegmentedColormap\n",
    "fig, ax = plt.subplots(figsize=(8, 5))\n",
    "confusion_matrix.plot(ax=ax, cmap='RdGy')  # Choisissez une colormap, par exemple 'Oranges'\n",
    "\n",
    "# Personnalisation des labels, des ticks, etc.\n",
    "ax.set_title('Matrice de Confusion')\n",
    "ax.set_xlabel('Prédictions')\n",
    "ax.grid(True, axis='x', color='black')\n",
    "ax.grid(True, axis='y', color='black')\n",
    "# Mettre les valeurs des étiquettes en blanc\n",
    "ax.xaxis.set_tick_params(labelcolor='black')\n",
    "ax.yaxis.set_tick_params(labelcolor='black')\n",
    "\n",
    "# Mettre les valeurs en blanc\n",
    "for text in confusion_matrix.text_.ravel():\n",
    "    text.set_color('white')\n",
    "        \n",
    "plt.tight_layout()\n",
    "plt.show()"
   ]
  },
  {
   "cell_type": "code",
   "execution_count": 263,
   "id": "1e131301",
   "metadata": {},
   "outputs": [],
   "source": [
    "df_predict_full2= df_predict_full.dropna()"
   ]
  },
  {
   "cell_type": "code",
   "execution_count": 404,
   "id": "5049be0d",
   "metadata": {},
   "outputs": [
    {
     "data": {
      "text/html": [
       "<div>\n",
       "<style scoped>\n",
       "    .dataframe tbody tr th:only-of-type {\n",
       "        vertical-align: middle;\n",
       "    }\n",
       "\n",
       "    .dataframe tbody tr th {\n",
       "        vertical-align: top;\n",
       "    }\n",
       "\n",
       "    .dataframe thead th {\n",
       "        text-align: right;\n",
       "    }\n",
       "</style>\n",
       "<table border=\"1\" class=\"dataframe\">\n",
       "  <thead>\n",
       "    <tr style=\"text-align: right;\">\n",
       "      <th></th>\n",
       "      <th>win</th>\n",
       "      <th>nb_fights_diff</th>\n",
       "      <th>age_diff</th>\n",
       "      <th>weight_diff</th>\n",
       "      <th>win_ratio</th>\n",
       "      <th>diff_allonge</th>\n",
       "      <th>size_diff</th>\n",
       "      <th>is_home_town</th>\n",
       "      <th>Boxe</th>\n",
       "      <th>Hapkido</th>\n",
       "      <th>...</th>\n",
       "      <th>Lutte</th>\n",
       "      <th>Muay_thaï</th>\n",
       "      <th>Sambo</th>\n",
       "      <th>is_taller</th>\n",
       "      <th>is_older</th>\n",
       "      <th>is_heavier</th>\n",
       "      <th>has_more_fights</th>\n",
       "      <th>higher_allonge</th>\n",
       "      <th>is_smaller</th>\n",
       "      <th>Wushu</th>\n",
       "    </tr>\n",
       "  </thead>\n",
       "  <tbody>\n",
       "    <tr>\n",
       "      <th>50</th>\n",
       "      <td>0</td>\n",
       "      <td>2</td>\n",
       "      <td>8</td>\n",
       "      <td>0.00</td>\n",
       "      <td>0.500000</td>\n",
       "      <td>-3.272727</td>\n",
       "      <td>-30.48</td>\n",
       "      <td>0</td>\n",
       "      <td>0</td>\n",
       "      <td>0</td>\n",
       "      <td>...</td>\n",
       "      <td>0</td>\n",
       "      <td>1</td>\n",
       "      <td>0</td>\n",
       "      <td>0</td>\n",
       "      <td>1</td>\n",
       "      <td>0</td>\n",
       "      <td>1</td>\n",
       "      <td>1</td>\n",
       "      <td>1</td>\n",
       "      <td>0</td>\n",
       "    </tr>\n",
       "    <tr>\n",
       "      <th>68</th>\n",
       "      <td>0</td>\n",
       "      <td>-3</td>\n",
       "      <td>2</td>\n",
       "      <td>0.46</td>\n",
       "      <td>0.333333</td>\n",
       "      <td>-2.000000</td>\n",
       "      <td>-6.10</td>\n",
       "      <td>0</td>\n",
       "      <td>0</td>\n",
       "      <td>0</td>\n",
       "      <td>...</td>\n",
       "      <td>1</td>\n",
       "      <td>1</td>\n",
       "      <td>0</td>\n",
       "      <td>0</td>\n",
       "      <td>1</td>\n",
       "      <td>1</td>\n",
       "      <td>0</td>\n",
       "      <td>0</td>\n",
       "      <td>1</td>\n",
       "      <td>0</td>\n",
       "    </tr>\n",
       "    <tr>\n",
       "      <th>81</th>\n",
       "      <td>0</td>\n",
       "      <td>1</td>\n",
       "      <td>4</td>\n",
       "      <td>0.00</td>\n",
       "      <td>0.333333</td>\n",
       "      <td>6.666667</td>\n",
       "      <td>3.05</td>\n",
       "      <td>0</td>\n",
       "      <td>0</td>\n",
       "      <td>0</td>\n",
       "      <td>...</td>\n",
       "      <td>0</td>\n",
       "      <td>0</td>\n",
       "      <td>0</td>\n",
       "      <td>1</td>\n",
       "      <td>1</td>\n",
       "      <td>0</td>\n",
       "      <td>1</td>\n",
       "      <td>1</td>\n",
       "      <td>0</td>\n",
       "      <td>0</td>\n",
       "    </tr>\n",
       "    <tr>\n",
       "      <th>343</th>\n",
       "      <td>0</td>\n",
       "      <td>-1</td>\n",
       "      <td>-1</td>\n",
       "      <td>0.00</td>\n",
       "      <td>0.619048</td>\n",
       "      <td>-5.333333</td>\n",
       "      <td>-27.13</td>\n",
       "      <td>0</td>\n",
       "      <td>1</td>\n",
       "      <td>0</td>\n",
       "      <td>...</td>\n",
       "      <td>1</td>\n",
       "      <td>0</td>\n",
       "      <td>0</td>\n",
       "      <td>0</td>\n",
       "      <td>0</td>\n",
       "      <td>0</td>\n",
       "      <td>0</td>\n",
       "      <td>0</td>\n",
       "      <td>1</td>\n",
       "      <td>0</td>\n",
       "    </tr>\n",
       "    <tr>\n",
       "      <th>392</th>\n",
       "      <td>0</td>\n",
       "      <td>7</td>\n",
       "      <td>8</td>\n",
       "      <td>0.00</td>\n",
       "      <td>0.636364</td>\n",
       "      <td>-4.777778</td>\n",
       "      <td>-3.05</td>\n",
       "      <td>0</td>\n",
       "      <td>1</td>\n",
       "      <td>0</td>\n",
       "      <td>...</td>\n",
       "      <td>1</td>\n",
       "      <td>0</td>\n",
       "      <td>0</td>\n",
       "      <td>0</td>\n",
       "      <td>1</td>\n",
       "      <td>0</td>\n",
       "      <td>1</td>\n",
       "      <td>0</td>\n",
       "      <td>1</td>\n",
       "      <td>0</td>\n",
       "    </tr>\n",
       "    <tr>\n",
       "      <th>...</th>\n",
       "      <td>...</td>\n",
       "      <td>...</td>\n",
       "      <td>...</td>\n",
       "      <td>...</td>\n",
       "      <td>...</td>\n",
       "      <td>...</td>\n",
       "      <td>...</td>\n",
       "      <td>...</td>\n",
       "      <td>...</td>\n",
       "      <td>...</td>\n",
       "      <td>...</td>\n",
       "      <td>...</td>\n",
       "      <td>...</td>\n",
       "      <td>...</td>\n",
       "      <td>...</td>\n",
       "      <td>...</td>\n",
       "      <td>...</td>\n",
       "      <td>...</td>\n",
       "      <td>...</td>\n",
       "      <td>...</td>\n",
       "      <td>...</td>\n",
       "    </tr>\n",
       "    <tr>\n",
       "      <th>13433</th>\n",
       "      <td>0</td>\n",
       "      <td>-8</td>\n",
       "      <td>-3</td>\n",
       "      <td>0.00</td>\n",
       "      <td>1.000000</td>\n",
       "      <td>0.000000</td>\n",
       "      <td>9.14</td>\n",
       "      <td>0</td>\n",
       "      <td>0</td>\n",
       "      <td>0</td>\n",
       "      <td>...</td>\n",
       "      <td>0</td>\n",
       "      <td>0</td>\n",
       "      <td>0</td>\n",
       "      <td>1</td>\n",
       "      <td>0</td>\n",
       "      <td>0</td>\n",
       "      <td>0</td>\n",
       "      <td>1</td>\n",
       "      <td>0</td>\n",
       "      <td>0</td>\n",
       "    </tr>\n",
       "    <tr>\n",
       "      <th>13508</th>\n",
       "      <td>0</td>\n",
       "      <td>-1</td>\n",
       "      <td>2</td>\n",
       "      <td>0.00</td>\n",
       "      <td>0.538462</td>\n",
       "      <td>-3.769231</td>\n",
       "      <td>-12.19</td>\n",
       "      <td>0</td>\n",
       "      <td>0</td>\n",
       "      <td>0</td>\n",
       "      <td>...</td>\n",
       "      <td>0</td>\n",
       "      <td>0</td>\n",
       "      <td>0</td>\n",
       "      <td>0</td>\n",
       "      <td>1</td>\n",
       "      <td>0</td>\n",
       "      <td>0</td>\n",
       "      <td>0</td>\n",
       "      <td>1</td>\n",
       "      <td>0</td>\n",
       "    </tr>\n",
       "    <tr>\n",
       "      <th>13599</th>\n",
       "      <td>0</td>\n",
       "      <td>-1</td>\n",
       "      <td>6</td>\n",
       "      <td>0.00</td>\n",
       "      <td>0.000000</td>\n",
       "      <td>6.000000</td>\n",
       "      <td>9.15</td>\n",
       "      <td>0</td>\n",
       "      <td>0</td>\n",
       "      <td>0</td>\n",
       "      <td>...</td>\n",
       "      <td>1</td>\n",
       "      <td>0</td>\n",
       "      <td>0</td>\n",
       "      <td>1</td>\n",
       "      <td>1</td>\n",
       "      <td>0</td>\n",
       "      <td>0</td>\n",
       "      <td>1</td>\n",
       "      <td>0</td>\n",
       "      <td>0</td>\n",
       "    </tr>\n",
       "    <tr>\n",
       "      <th>13709</th>\n",
       "      <td>0</td>\n",
       "      <td>-1</td>\n",
       "      <td>4</td>\n",
       "      <td>4.54</td>\n",
       "      <td>0.000000</td>\n",
       "      <td>-10.000000</td>\n",
       "      <td>24.38</td>\n",
       "      <td>0</td>\n",
       "      <td>0</td>\n",
       "      <td>0</td>\n",
       "      <td>...</td>\n",
       "      <td>0</td>\n",
       "      <td>1</td>\n",
       "      <td>0</td>\n",
       "      <td>1</td>\n",
       "      <td>1</td>\n",
       "      <td>1</td>\n",
       "      <td>0</td>\n",
       "      <td>0</td>\n",
       "      <td>0</td>\n",
       "      <td>0</td>\n",
       "    </tr>\n",
       "    <tr>\n",
       "      <th>13868</th>\n",
       "      <td>0</td>\n",
       "      <td>-2</td>\n",
       "      <td>-4</td>\n",
       "      <td>0.00</td>\n",
       "      <td>0.000000</td>\n",
       "      <td>0.000000</td>\n",
       "      <td>3.04</td>\n",
       "      <td>0</td>\n",
       "      <td>0</td>\n",
       "      <td>0</td>\n",
       "      <td>...</td>\n",
       "      <td>0</td>\n",
       "      <td>0</td>\n",
       "      <td>0</td>\n",
       "      <td>1</td>\n",
       "      <td>0</td>\n",
       "      <td>0</td>\n",
       "      <td>0</td>\n",
       "      <td>0</td>\n",
       "      <td>0</td>\n",
       "      <td>0</td>\n",
       "    </tr>\n",
       "  </tbody>\n",
       "</table>\n",
       "<p>164 rows × 22 columns</p>\n",
       "</div>"
      ],
      "text/plain": [
       "       win  nb_fights_diff  age_diff  weight_diff  win_ratio  diff_allonge  \\\n",
       "50       0               2         8         0.00   0.500000     -3.272727   \n",
       "68       0              -3         2         0.46   0.333333     -2.000000   \n",
       "81       0               1         4         0.00   0.333333      6.666667   \n",
       "343      0              -1        -1         0.00   0.619048     -5.333333   \n",
       "392      0               7         8         0.00   0.636364     -4.777778   \n",
       "...    ...             ...       ...          ...        ...           ...   \n",
       "13433    0              -8        -3         0.00   1.000000      0.000000   \n",
       "13508    0              -1         2         0.00   0.538462     -3.769231   \n",
       "13599    0              -1         6         0.00   0.000000      6.000000   \n",
       "13709    0              -1         4         4.54   0.000000    -10.000000   \n",
       "13868    0              -2        -4         0.00   0.000000      0.000000   \n",
       "\n",
       "       size_diff  is_home_town  Boxe  Hapkido  ...  Lutte  Muay_thaï  Sambo  \\\n",
       "50        -30.48             0     0        0  ...      0          1      0   \n",
       "68         -6.10             0     0        0  ...      1          1      0   \n",
       "81          3.05             0     0        0  ...      0          0      0   \n",
       "343       -27.13             0     1        0  ...      1          0      0   \n",
       "392        -3.05             0     1        0  ...      1          0      0   \n",
       "...          ...           ...   ...      ...  ...    ...        ...    ...   \n",
       "13433       9.14             0     0        0  ...      0          0      0   \n",
       "13508     -12.19             0     0        0  ...      0          0      0   \n",
       "13599       9.15             0     0        0  ...      1          0      0   \n",
       "13709      24.38             0     0        0  ...      0          1      0   \n",
       "13868       3.04             0     0        0  ...      0          0      0   \n",
       "\n",
       "       is_taller  is_older  is_heavier  has_more_fights  higher_allonge  \\\n",
       "50             0         1           0                1               1   \n",
       "68             0         1           1                0               0   \n",
       "81             1         1           0                1               1   \n",
       "343            0         0           0                0               0   \n",
       "392            0         1           0                1               0   \n",
       "...          ...       ...         ...              ...             ...   \n",
       "13433          1         0           0                0               1   \n",
       "13508          0         1           0                0               0   \n",
       "13599          1         1           0                0               1   \n",
       "13709          1         1           1                0               0   \n",
       "13868          1         0           0                0               0   \n",
       "\n",
       "       is_smaller  Wushu  \n",
       "50              1      0  \n",
       "68              1      0  \n",
       "81              0      0  \n",
       "343             1      0  \n",
       "392             1      0  \n",
       "...           ...    ...  \n",
       "13433           0      0  \n",
       "13508           1      0  \n",
       "13599           0      0  \n",
       "13709           0      0  \n",
       "13868           0      0  \n",
       "\n",
       "[164 rows x 22 columns]"
      ]
     },
     "execution_count": 404,
     "metadata": {},
     "output_type": "execute_result"
    }
   ],
   "source": [
    "df_predict_full"
   ]
  },
  {
   "cell_type": "markdown",
   "id": "0004e06e",
   "metadata": {},
   "source": [
    "## RECALL"
   ]
  },
  {
   "cell_type": "code",
   "execution_count": 405,
   "id": "468333eb",
   "metadata": {},
   "outputs": [
    {
     "name": "stdout",
     "output_type": "stream",
     "text": [
      "Pred model has recall of 0.7906026557711952\n"
     ]
    }
   ],
   "source": [
    "from sklearn.metrics import recall_score\n",
    "\n",
    "pred_recall = recall_score(y_test, y_pred)\n",
    "\n",
    "print(f\"Pred model has recall of {pred_recall}\")"
   ]
  },
  {
   "cell_type": "markdown",
   "id": "42eed2dc",
   "metadata": {},
   "source": [
    "## PREDICT "
   ]
  },
  {
   "cell_type": "code",
   "execution_count": 406,
   "id": "1ba3430a",
   "metadata": {},
   "outputs": [],
   "source": [
    "X_predict = df_predict_full.drop(columns =['win'],axis=1)\n",
    "\n",
    "# scale X_predict\n",
    "X_predict_scaled = scaler.transform(X_predict)\n",
    "\n",
    "# transform into dataframe for the future\n",
    "X_predict_scaled = pd.DataFrame(X_predict_scaled, columns=scaler.feature_names_in_)"
   ]
  },
  {
   "cell_type": "code",
   "execution_count": 407,
   "id": "bd423d5a",
   "metadata": {
    "scrolled": true
   },
   "outputs": [
    {
     "data": {
      "text/html": [
       "<div>\n",
       "<style scoped>\n",
       "    .dataframe tbody tr th:only-of-type {\n",
       "        vertical-align: middle;\n",
       "    }\n",
       "\n",
       "    .dataframe tbody tr th {\n",
       "        vertical-align: top;\n",
       "    }\n",
       "\n",
       "    .dataframe thead th {\n",
       "        text-align: right;\n",
       "    }\n",
       "</style>\n",
       "<table border=\"1\" class=\"dataframe\">\n",
       "  <thead>\n",
       "    <tr style=\"text-align: right;\">\n",
       "      <th></th>\n",
       "      <th>0</th>\n",
       "      <th>1</th>\n",
       "    </tr>\n",
       "  </thead>\n",
       "  <tbody>\n",
       "    <tr>\n",
       "      <th>0</th>\n",
       "      <td>0.709763</td>\n",
       "      <td>0.290237</td>\n",
       "    </tr>\n",
       "    <tr>\n",
       "      <th>1</th>\n",
       "      <td>0.953458</td>\n",
       "      <td>0.046542</td>\n",
       "    </tr>\n",
       "    <tr>\n",
       "      <th>2</th>\n",
       "      <td>0.889746</td>\n",
       "      <td>0.110254</td>\n",
       "    </tr>\n",
       "    <tr>\n",
       "      <th>3</th>\n",
       "      <td>0.461504</td>\n",
       "      <td>0.538496</td>\n",
       "    </tr>\n",
       "    <tr>\n",
       "      <th>4</th>\n",
       "      <td>0.215720</td>\n",
       "      <td>0.784280</td>\n",
       "    </tr>\n",
       "    <tr>\n",
       "      <th>...</th>\n",
       "      <td>...</td>\n",
       "      <td>...</td>\n",
       "    </tr>\n",
       "    <tr>\n",
       "      <th>159</th>\n",
       "      <td>0.166999</td>\n",
       "      <td>0.833001</td>\n",
       "    </tr>\n",
       "    <tr>\n",
       "      <th>160</th>\n",
       "      <td>0.638745</td>\n",
       "      <td>0.361255</td>\n",
       "    </tr>\n",
       "    <tr>\n",
       "      <th>161</th>\n",
       "      <td>0.996876</td>\n",
       "      <td>0.003124</td>\n",
       "    </tr>\n",
       "    <tr>\n",
       "      <th>162</th>\n",
       "      <td>0.994995</td>\n",
       "      <td>0.005005</td>\n",
       "    </tr>\n",
       "    <tr>\n",
       "      <th>163</th>\n",
       "      <td>0.988779</td>\n",
       "      <td>0.011221</td>\n",
       "    </tr>\n",
       "  </tbody>\n",
       "</table>\n",
       "<p>164 rows × 2 columns</p>\n",
       "</div>"
      ],
      "text/plain": [
       "            0         1\n",
       "0    0.709763  0.290237\n",
       "1    0.953458  0.046542\n",
       "2    0.889746  0.110254\n",
       "3    0.461504  0.538496\n",
       "4    0.215720  0.784280\n",
       "..        ...       ...\n",
       "159  0.166999  0.833001\n",
       "160  0.638745  0.361255\n",
       "161  0.996876  0.003124\n",
       "162  0.994995  0.005005\n",
       "163  0.988779  0.011221\n",
       "\n",
       "[164 rows x 2 columns]"
      ]
     },
     "execution_count": 407,
     "metadata": {},
     "output_type": "execute_result"
    }
   ],
   "source": [
    "model_pred = log_model.predict_proba(X_predict_scaled)\n",
    "pred = pd.DataFrame(model_pred)\n",
    "pred"
   ]
  },
  {
   "cell_type": "markdown",
   "id": "60256b4b",
   "metadata": {},
   "source": [
    "## Exportation de la table de prédiction des winners"
   ]
  },
  {
   "cell_type": "code",
   "execution_count": 408,
   "id": "a29e44bf",
   "metadata": {},
   "outputs": [],
   "source": [
    "df_predict_ind = df_predict.reset_index()\n",
    "df_ufc_predict = df_predict_ind.merge(pred, left_index=True, right_index=True)\n",
    "df_ufc_predict.rename(columns={0:\"proba_to_lose\",1:\"proba_to_win\"}, inplace=True)"
   ]
  },
  {
   "cell_type": "code",
   "execution_count": 409,
   "id": "d81be028",
   "metadata": {},
   "outputs": [],
   "source": [
    "columns = ['date','fighter','proba_to_lose','proba_to_win']\n",
    "df_ufc_predict4 = df_ufc_predict[columns]"
   ]
  },
  {
   "cell_type": "code",
   "execution_count": 410,
   "id": "ace97fe7",
   "metadata": {},
   "outputs": [],
   "source": [
    "df_ufc_predict4.to_excel('df_ufc_predict4.xlsx', index=False)"
   ]
  },
  {
   "cell_type": "markdown",
   "id": "eda098b2",
   "metadata": {},
   "source": []
  },
  {
   "cell_type": "code",
   "execution_count": 617,
   "id": "a78792fa",
   "metadata": {
    "scrolled": true
   },
   "outputs": [
    {
     "name": "stdout",
     "output_type": "stream",
     "text": [
      "<class 'pandas.core.frame.DataFrame'>\n",
      "Index: 10306 entries, 0 to 13933\n",
      "Data columns (total 81 columns):\n",
      " #   Column                 Non-Null Count  Dtype         \n",
      "---  ------                 --------------  -----         \n",
      " 0   date                   10306 non-null  datetime64[ns]\n",
      " 1   is_main_event          10306 non-null  bool          \n",
      " 2   referee_name           10306 non-null  object        \n",
      " 3   match                  10306 non-null  int64         \n",
      " 4   round                  10306 non-null  int64         \n",
      " 5   fighter                10306 non-null  object        \n",
      " 6   nb_fights_diff         10306 non-null  int64         \n",
      " 7   age_diff               10306 non-null  int64         \n",
      " 8   size_diff              10306 non-null  float64       \n",
      " 9   weight_diff            10306 non-null  float64       \n",
      " 10  allonge_diff           10306 non-null  int64         \n",
      " 11  diff_allonge_jambe     10306 non-null  int64         \n",
      " 12  is_home_country        10306 non-null  int64         \n",
      " 13  is_home_town           10306 non-null  int64         \n",
      " 14  sex                    10306 non-null  object        \n",
      " 15  method                 10306 non-null  object        \n",
      " 16  win                    10306 non-null  int64         \n",
      " 17  Aikido                 10306 non-null  int64         \n",
      " 18  Boxe                   10306 non-null  int64         \n",
      " 19  Gaidojutsu             10306 non-null  int64         \n",
      " 20  Goshin_Jutsu           10306 non-null  int64         \n",
      " 21  Gwonbeop               10306 non-null  int64         \n",
      " 22  Hapkido                10306 non-null  int64         \n",
      " 23  Jeet_Kune_Do           10306 non-null  int64         \n",
      " 24  Jiu_jitsu_brésilien    10306 non-null  int64         \n",
      " 25  Judo                   10306 non-null  int64         \n",
      " 26  Jujitsu                10306 non-null  int64         \n",
      " 27  Kajukenbo              10306 non-null  int64         \n",
      " 28  Kali                   10306 non-null  int64         \n",
      " 29  Kapu_kuialua           10306 non-null  int64         \n",
      " 30  Karaté                 10306 non-null  int64         \n",
      " 31  Kempo                  10306 non-null  int64         \n",
      " 32  Kendo                  10306 non-null  int64         \n",
      " 33  Kickboxing             10306 non-null  int64         \n",
      " 34  Krav_Maga              10306 non-null  int64         \n",
      " 35  Kung_Fu                10306 non-null  int64         \n",
      " 36  Kuntao                 10306 non-null  int64         \n",
      " 37  Kyokushin              10306 non-null  int64         \n",
      " 38  Laïdo                  10306 non-null  int64         \n",
      " 39  Luta_Livre             10306 non-null  int64         \n",
      " 40  Lutte                  10306 non-null  int64         \n",
      " 41  Lutte_Gréco_Romaine    10306 non-null  int64         \n",
      " 42  Muay_thaï              10306 non-null  int64         \n",
      " 43  Ninjutsu               10306 non-null  int64         \n",
      " 44  Pancrace               10306 non-null  int64         \n",
      " 45  Sambo                  10306 non-null  int64         \n",
      " 46  Sanda                  10306 non-null  int64         \n",
      " 47  Sanshou                10306 non-null  int64         \n",
      " 48  Savate                 10306 non-null  int64         \n",
      " 49  Seidokaikan            10306 non-null  int64         \n",
      " 50  Shidokan               10306 non-null  int64         \n",
      " 51  Shootboxing            10306 non-null  int64         \n",
      " 52  Shootfighting          10306 non-null  int64         \n",
      " 53  Shooto                 10306 non-null  int64         \n",
      " 54  Shorinji_Kempo         10306 non-null  int64         \n",
      " 55  Shotokan               10306 non-null  int64         \n",
      " 56  Silat                  10306 non-null  int64         \n",
      " 57  Ssireum                10306 non-null  int64         \n",
      " 58  Taekwondo              10306 non-null  int64         \n",
      " 59  Tai_Chi                10306 non-null  int64         \n",
      " 60  Vale_tudo              10306 non-null  int64         \n",
      " 61  Wu_Jitsu               10306 non-null  int64         \n",
      " 62  Wushu                  10306 non-null  int64         \n",
      " 63  is_taller              10306 non-null  int64         \n",
      " 64  is_older               10306 non-null  int64         \n",
      " 65  is_younger             10306 non-null  int64         \n",
      " 66  is_heavier             10306 non-null  int64         \n",
      " 67  is_lighter             10306 non-null  int64         \n",
      " 68  has_more_fights        10306 non-null  int64         \n",
      " 69  higher_allonge         10306 non-null  int64         \n",
      " 70  smaller_allonge        10306 non-null  int64         \n",
      " 71  higher_allonge_jambe   10306 non-null  int64         \n",
      " 72  smaller_allonge_jambe  10306 non-null  int64         \n",
      " 73  is_smaller             10306 non-null  int64         \n",
      " 74  Other_mode             10306 non-null  int64         \n",
      " 75  fights_won             10306 non-null  int64         \n",
      " 76  fight_count            10306 non-null  int64         \n",
      " 77  win_ratio              10306 non-null  float64       \n",
      " 78  fights_lose            10306 non-null  int32         \n",
      " 79  lose_ratio             10306 non-null  float64       \n",
      " 80  diff_allonge           10306 non-null  float64       \n",
      "dtypes: bool(1), datetime64[ns](1), float64(5), int32(1), int64(69), object(4)\n",
      "memory usage: 6.3+ MB\n"
     ]
    }
   ],
   "source": [
    "df_technique = df_train_m2.loc[(df_train_m2.date < '2024-06-01') & (df_train_m2.date > '2011-12-31')]\n",
    "df_technique.info()"
   ]
  },
  {
   "cell_type": "code",
   "execution_count": 644,
   "id": "29d6fd82",
   "metadata": {},
   "outputs": [
    {
     "name": "stdout",
     "output_type": "stream",
     "text": [
      "Boxe représente 29.07% de victoire du dataset \n",
      "Wushu représente 0.37% de victoire du dataset \n",
      "Hapkido représente 0.54% de victoire du dataset \n",
      "Jiu_jitsu_brésilien représente 63.3% de victoire du dataset \n",
      "Kickboxing représente 33.22% de victoire du dataset \n",
      "Lutte représente 39.45% de victoire du dataset \n",
      "Muay_thaï représente 14.79% de victoire du dataset \n",
      "Sambo représente 3.65% de victoire du dataset \n"
     ]
    }
   ],
   "source": [
    "mode = [\"Boxe\",\"Wushu\",\"Hapkido\",\n",
    "    \"Jiu_jitsu_brésilien\",\n",
    "    \"Kickboxing\",\n",
    "    \"Lutte\",\n",
    "    \"Muay_thaï\",\n",
    "    \"Sambo\"]\n",
    "for i in mode: \n",
    "    pourcentage=round((df_technique[\"win\"].loc[(df_technique[i]) == 1 & (df_technique[\"win\"]==1)].sum())/(10306/2)*100,2)\n",
    "    print(f'{i} représente {pourcentage}% de victoire du dataset ')\n",
    "#     (df_technique[\"win\"].loc[(df_technique[\"Boxe\"]) == 1 & (df_technique[\"win\"]==1)].sum())/(10306/2)"
   ]
  },
  {
   "cell_type": "markdown",
   "id": "708c8716",
   "metadata": {},
   "source": [
    "# Calcul taux de victoire par style de combats"
   ]
  },
  {
   "cell_type": "code",
   "execution_count": 656,
   "id": "e494ffcf",
   "metadata": {},
   "outputs": [],
   "source": [
    "mode = [\"Boxe\",\"Wushu\",\"Hapkido\",\n",
    "    \"Jiu_jitsu_brésilien\",\n",
    "    \"Kickboxing\",\n",
    "    \"Lutte\",\n",
    "    \"Muay_thaï\",\n",
    "    \"Sambo\"]\n",
    "mode_percent= []\n",
    "for i in mode: \n",
    "    pourcentage=round((df_technique[\"win\"].loc[(df_technique[i]) == 1 & (df_technique[\"win\"]==1)].sum())/(10306/2)*100,2)\n",
    "    mode_percent.append([i, pourcentage])\n",
    "#     print(f'{i} représente {pourcentage}% de victoire du dataset ')\n",
    "df_mode_percent = pd.DataFrame(mode_percent)"
   ]
  },
  {
   "cell_type": "code",
   "execution_count": 667,
   "id": "28bd6897",
   "metadata": {},
   "outputs": [],
   "source": [
    "df_mode_percent.rename(columns={0:\"Mode\", 1:\"%Victoire\"}, inplace=True)"
   ]
  },
  {
   "cell_type": "code",
   "execution_count": 679,
   "id": "f200ff92",
   "metadata": {},
   "outputs": [],
   "source": [
    "df_mode_percent= df_mode_percent.sort_values(\"%Victoire\", ascending=0)"
   ]
  },
  {
   "cell_type": "code",
   "execution_count": 695,
   "id": "c7e95db1",
   "metadata": {
    "scrolled": true
   },
   "outputs": [
    {
     "data": {
      "application/vnd.plotly.v1+json": {
       "config": {
        "plotlyServerURL": "https://plot.ly"
       },
       "data": [
        {
         "alignmentgroup": "True",
         "hovertemplate": "Mode=%{x}<br>%Victoire=%{text}<extra></extra>",
         "legendgroup": "",
         "marker": {
          "color": "#AB0000",
          "pattern": {
           "shape": ""
          }
         },
         "name": "",
         "offsetgroup": "",
         "orientation": "v",
         "showlegend": false,
         "text": [
          63.3,
          39.45,
          33.22,
          29.07,
          14.79,
          3.65,
          0.54,
          0.37
         ],
         "textposition": "auto",
         "type": "bar",
         "x": [
          "Jiu_jitsu_brésilien",
          "Lutte",
          "Kickboxing",
          "Boxe",
          "Muay_thaï",
          "Sambo",
          "Hapkido",
          "Wushu"
         ],
         "xaxis": "x",
         "y": [
          63.3,
          39.45,
          33.22,
          29.07,
          14.79,
          3.65,
          0.54,
          0.37
         ],
         "yaxis": "y"
        }
       ],
       "layout": {
        "barmode": "relative",
        "font": {
         "color": "white"
        },
        "legend": {
         "tracegroupgap": 0
        },
        "margin": {
         "t": 60
        },
        "paper_bgcolor": "black",
        "plot_bgcolor": "#191919",
        "showlegend": false,
        "template": {
         "data": {
          "bar": [
           {
            "error_x": {
             "color": "#2a3f5f"
            },
            "error_y": {
             "color": "#2a3f5f"
            },
            "marker": {
             "line": {
              "color": "#E5ECF6",
              "width": 0.5
             },
             "pattern": {
              "fillmode": "overlay",
              "size": 10,
              "solidity": 0.2
             }
            },
            "type": "bar"
           }
          ],
          "barpolar": [
           {
            "marker": {
             "line": {
              "color": "#E5ECF6",
              "width": 0.5
             },
             "pattern": {
              "fillmode": "overlay",
              "size": 10,
              "solidity": 0.2
             }
            },
            "type": "barpolar"
           }
          ],
          "carpet": [
           {
            "aaxis": {
             "endlinecolor": "#2a3f5f",
             "gridcolor": "white",
             "linecolor": "white",
             "minorgridcolor": "white",
             "startlinecolor": "#2a3f5f"
            },
            "baxis": {
             "endlinecolor": "#2a3f5f",
             "gridcolor": "white",
             "linecolor": "white",
             "minorgridcolor": "white",
             "startlinecolor": "#2a3f5f"
            },
            "type": "carpet"
           }
          ],
          "choropleth": [
           {
            "colorbar": {
             "outlinewidth": 0,
             "ticks": ""
            },
            "type": "choropleth"
           }
          ],
          "contour": [
           {
            "colorbar": {
             "outlinewidth": 0,
             "ticks": ""
            },
            "colorscale": [
             [
              0,
              "#0d0887"
             ],
             [
              0.1111111111111111,
              "#46039f"
             ],
             [
              0.2222222222222222,
              "#7201a8"
             ],
             [
              0.3333333333333333,
              "#9c179e"
             ],
             [
              0.4444444444444444,
              "#bd3786"
             ],
             [
              0.5555555555555556,
              "#d8576b"
             ],
             [
              0.6666666666666666,
              "#ed7953"
             ],
             [
              0.7777777777777778,
              "#fb9f3a"
             ],
             [
              0.8888888888888888,
              "#fdca26"
             ],
             [
              1,
              "#f0f921"
             ]
            ],
            "type": "contour"
           }
          ],
          "contourcarpet": [
           {
            "colorbar": {
             "outlinewidth": 0,
             "ticks": ""
            },
            "type": "contourcarpet"
           }
          ],
          "heatmap": [
           {
            "colorbar": {
             "outlinewidth": 0,
             "ticks": ""
            },
            "colorscale": [
             [
              0,
              "#0d0887"
             ],
             [
              0.1111111111111111,
              "#46039f"
             ],
             [
              0.2222222222222222,
              "#7201a8"
             ],
             [
              0.3333333333333333,
              "#9c179e"
             ],
             [
              0.4444444444444444,
              "#bd3786"
             ],
             [
              0.5555555555555556,
              "#d8576b"
             ],
             [
              0.6666666666666666,
              "#ed7953"
             ],
             [
              0.7777777777777778,
              "#fb9f3a"
             ],
             [
              0.8888888888888888,
              "#fdca26"
             ],
             [
              1,
              "#f0f921"
             ]
            ],
            "type": "heatmap"
           }
          ],
          "heatmapgl": [
           {
            "colorbar": {
             "outlinewidth": 0,
             "ticks": ""
            },
            "colorscale": [
             [
              0,
              "#0d0887"
             ],
             [
              0.1111111111111111,
              "#46039f"
             ],
             [
              0.2222222222222222,
              "#7201a8"
             ],
             [
              0.3333333333333333,
              "#9c179e"
             ],
             [
              0.4444444444444444,
              "#bd3786"
             ],
             [
              0.5555555555555556,
              "#d8576b"
             ],
             [
              0.6666666666666666,
              "#ed7953"
             ],
             [
              0.7777777777777778,
              "#fb9f3a"
             ],
             [
              0.8888888888888888,
              "#fdca26"
             ],
             [
              1,
              "#f0f921"
             ]
            ],
            "type": "heatmapgl"
           }
          ],
          "histogram": [
           {
            "marker": {
             "pattern": {
              "fillmode": "overlay",
              "size": 10,
              "solidity": 0.2
             }
            },
            "type": "histogram"
           }
          ],
          "histogram2d": [
           {
            "colorbar": {
             "outlinewidth": 0,
             "ticks": ""
            },
            "colorscale": [
             [
              0,
              "#0d0887"
             ],
             [
              0.1111111111111111,
              "#46039f"
             ],
             [
              0.2222222222222222,
              "#7201a8"
             ],
             [
              0.3333333333333333,
              "#9c179e"
             ],
             [
              0.4444444444444444,
              "#bd3786"
             ],
             [
              0.5555555555555556,
              "#d8576b"
             ],
             [
              0.6666666666666666,
              "#ed7953"
             ],
             [
              0.7777777777777778,
              "#fb9f3a"
             ],
             [
              0.8888888888888888,
              "#fdca26"
             ],
             [
              1,
              "#f0f921"
             ]
            ],
            "type": "histogram2d"
           }
          ],
          "histogram2dcontour": [
           {
            "colorbar": {
             "outlinewidth": 0,
             "ticks": ""
            },
            "colorscale": [
             [
              0,
              "#0d0887"
             ],
             [
              0.1111111111111111,
              "#46039f"
             ],
             [
              0.2222222222222222,
              "#7201a8"
             ],
             [
              0.3333333333333333,
              "#9c179e"
             ],
             [
              0.4444444444444444,
              "#bd3786"
             ],
             [
              0.5555555555555556,
              "#d8576b"
             ],
             [
              0.6666666666666666,
              "#ed7953"
             ],
             [
              0.7777777777777778,
              "#fb9f3a"
             ],
             [
              0.8888888888888888,
              "#fdca26"
             ],
             [
              1,
              "#f0f921"
             ]
            ],
            "type": "histogram2dcontour"
           }
          ],
          "mesh3d": [
           {
            "colorbar": {
             "outlinewidth": 0,
             "ticks": ""
            },
            "type": "mesh3d"
           }
          ],
          "parcoords": [
           {
            "line": {
             "colorbar": {
              "outlinewidth": 0,
              "ticks": ""
             }
            },
            "type": "parcoords"
           }
          ],
          "pie": [
           {
            "automargin": true,
            "type": "pie"
           }
          ],
          "scatter": [
           {
            "fillpattern": {
             "fillmode": "overlay",
             "size": 10,
             "solidity": 0.2
            },
            "type": "scatter"
           }
          ],
          "scatter3d": [
           {
            "line": {
             "colorbar": {
              "outlinewidth": 0,
              "ticks": ""
             }
            },
            "marker": {
             "colorbar": {
              "outlinewidth": 0,
              "ticks": ""
             }
            },
            "type": "scatter3d"
           }
          ],
          "scattercarpet": [
           {
            "marker": {
             "colorbar": {
              "outlinewidth": 0,
              "ticks": ""
             }
            },
            "type": "scattercarpet"
           }
          ],
          "scattergeo": [
           {
            "marker": {
             "colorbar": {
              "outlinewidth": 0,
              "ticks": ""
             }
            },
            "type": "scattergeo"
           }
          ],
          "scattergl": [
           {
            "marker": {
             "colorbar": {
              "outlinewidth": 0,
              "ticks": ""
             }
            },
            "type": "scattergl"
           }
          ],
          "scattermapbox": [
           {
            "marker": {
             "colorbar": {
              "outlinewidth": 0,
              "ticks": ""
             }
            },
            "type": "scattermapbox"
           }
          ],
          "scatterpolar": [
           {
            "marker": {
             "colorbar": {
              "outlinewidth": 0,
              "ticks": ""
             }
            },
            "type": "scatterpolar"
           }
          ],
          "scatterpolargl": [
           {
            "marker": {
             "colorbar": {
              "outlinewidth": 0,
              "ticks": ""
             }
            },
            "type": "scatterpolargl"
           }
          ],
          "scatterternary": [
           {
            "marker": {
             "colorbar": {
              "outlinewidth": 0,
              "ticks": ""
             }
            },
            "type": "scatterternary"
           }
          ],
          "surface": [
           {
            "colorbar": {
             "outlinewidth": 0,
             "ticks": ""
            },
            "colorscale": [
             [
              0,
              "#0d0887"
             ],
             [
              0.1111111111111111,
              "#46039f"
             ],
             [
              0.2222222222222222,
              "#7201a8"
             ],
             [
              0.3333333333333333,
              "#9c179e"
             ],
             [
              0.4444444444444444,
              "#bd3786"
             ],
             [
              0.5555555555555556,
              "#d8576b"
             ],
             [
              0.6666666666666666,
              "#ed7953"
             ],
             [
              0.7777777777777778,
              "#fb9f3a"
             ],
             [
              0.8888888888888888,
              "#fdca26"
             ],
             [
              1,
              "#f0f921"
             ]
            ],
            "type": "surface"
           }
          ],
          "table": [
           {
            "cells": {
             "fill": {
              "color": "#EBF0F8"
             },
             "line": {
              "color": "white"
             }
            },
            "header": {
             "fill": {
              "color": "#C8D4E3"
             },
             "line": {
              "color": "white"
             }
            },
            "type": "table"
           }
          ]
         },
         "layout": {
          "annotationdefaults": {
           "arrowcolor": "#2a3f5f",
           "arrowhead": 0,
           "arrowwidth": 1
          },
          "autotypenumbers": "strict",
          "coloraxis": {
           "colorbar": {
            "outlinewidth": 0,
            "ticks": ""
           }
          },
          "colorscale": {
           "diverging": [
            [
             0,
             "#8e0152"
            ],
            [
             0.1,
             "#c51b7d"
            ],
            [
             0.2,
             "#de77ae"
            ],
            [
             0.3,
             "#f1b6da"
            ],
            [
             0.4,
             "#fde0ef"
            ],
            [
             0.5,
             "#f7f7f7"
            ],
            [
             0.6,
             "#e6f5d0"
            ],
            [
             0.7,
             "#b8e186"
            ],
            [
             0.8,
             "#7fbc41"
            ],
            [
             0.9,
             "#4d9221"
            ],
            [
             1,
             "#276419"
            ]
           ],
           "sequential": [
            [
             0,
             "#0d0887"
            ],
            [
             0.1111111111111111,
             "#46039f"
            ],
            [
             0.2222222222222222,
             "#7201a8"
            ],
            [
             0.3333333333333333,
             "#9c179e"
            ],
            [
             0.4444444444444444,
             "#bd3786"
            ],
            [
             0.5555555555555556,
             "#d8576b"
            ],
            [
             0.6666666666666666,
             "#ed7953"
            ],
            [
             0.7777777777777778,
             "#fb9f3a"
            ],
            [
             0.8888888888888888,
             "#fdca26"
            ],
            [
             1,
             "#f0f921"
            ]
           ],
           "sequentialminus": [
            [
             0,
             "#0d0887"
            ],
            [
             0.1111111111111111,
             "#46039f"
            ],
            [
             0.2222222222222222,
             "#7201a8"
            ],
            [
             0.3333333333333333,
             "#9c179e"
            ],
            [
             0.4444444444444444,
             "#bd3786"
            ],
            [
             0.5555555555555556,
             "#d8576b"
            ],
            [
             0.6666666666666666,
             "#ed7953"
            ],
            [
             0.7777777777777778,
             "#fb9f3a"
            ],
            [
             0.8888888888888888,
             "#fdca26"
            ],
            [
             1,
             "#f0f921"
            ]
           ]
          },
          "colorway": [
           "#636efa",
           "#EF553B",
           "#00cc96",
           "#ab63fa",
           "#FFA15A",
           "#19d3f3",
           "#FF6692",
           "#B6E880",
           "#FF97FF",
           "#FECB52"
          ],
          "font": {
           "color": "#2a3f5f"
          },
          "geo": {
           "bgcolor": "white",
           "lakecolor": "white",
           "landcolor": "#E5ECF6",
           "showlakes": true,
           "showland": true,
           "subunitcolor": "white"
          },
          "hoverlabel": {
           "align": "left"
          },
          "hovermode": "closest",
          "mapbox": {
           "style": "light"
          },
          "paper_bgcolor": "white",
          "plot_bgcolor": "#E5ECF6",
          "polar": {
           "angularaxis": {
            "gridcolor": "white",
            "linecolor": "white",
            "ticks": ""
           },
           "bgcolor": "#E5ECF6",
           "radialaxis": {
            "gridcolor": "white",
            "linecolor": "white",
            "ticks": ""
           }
          },
          "scene": {
           "xaxis": {
            "backgroundcolor": "#E5ECF6",
            "gridcolor": "white",
            "gridwidth": 2,
            "linecolor": "white",
            "showbackground": true,
            "ticks": "",
            "zerolinecolor": "white"
           },
           "yaxis": {
            "backgroundcolor": "#E5ECF6",
            "gridcolor": "white",
            "gridwidth": 2,
            "linecolor": "white",
            "showbackground": true,
            "ticks": "",
            "zerolinecolor": "white"
           },
           "zaxis": {
            "backgroundcolor": "#E5ECF6",
            "gridcolor": "white",
            "gridwidth": 2,
            "linecolor": "white",
            "showbackground": true,
            "ticks": "",
            "zerolinecolor": "white"
           }
          },
          "shapedefaults": {
           "line": {
            "color": "#2a3f5f"
           }
          },
          "ternary": {
           "aaxis": {
            "gridcolor": "white",
            "linecolor": "white",
            "ticks": ""
           },
           "baxis": {
            "gridcolor": "white",
            "linecolor": "white",
            "ticks": ""
           },
           "bgcolor": "#E5ECF6",
           "caxis": {
            "gridcolor": "white",
            "linecolor": "white",
            "ticks": ""
           }
          },
          "title": {
           "x": 0.05
          },
          "xaxis": {
           "automargin": true,
           "gridcolor": "white",
           "linecolor": "white",
           "ticks": "",
           "title": {
            "standoff": 15
           },
           "zerolinecolor": "white",
           "zerolinewidth": 2
          },
          "yaxis": {
           "automargin": true,
           "gridcolor": "white",
           "linecolor": "white",
           "ticks": "",
           "title": {
            "standoff": 15
           },
           "zerolinecolor": "white",
           "zerolinewidth": 2
          }
         }
        },
        "title": {
         "text": "Pourcentage de Victoire par technique de combat"
        },
        "xaxis": {
         "anchor": "y",
         "domain": [
          0,
          1
         ],
         "title": {
          "text": "Mode"
         }
        },
        "yaxis": {
         "anchor": "x",
         "domain": [
          0,
          1
         ],
         "title": {
          "text": "%Victoire"
         }
        }
       }
      },
      "text/html": [
       "<div>                            <div id=\"6ab96c7f-593c-43f5-ab2d-c4319c091293\" class=\"plotly-graph-div\" style=\"height:525px; width:100%;\"></div>            <script type=\"text/javascript\">                require([\"plotly\"], function(Plotly) {                    window.PLOTLYENV=window.PLOTLYENV || {};                                    if (document.getElementById(\"6ab96c7f-593c-43f5-ab2d-c4319c091293\")) {                    Plotly.newPlot(                        \"6ab96c7f-593c-43f5-ab2d-c4319c091293\",                        [{\"alignmentgroup\":\"True\",\"hovertemplate\":\"Mode=%{x}\\u003cbr\\u003e%Victoire=%{text}\\u003cextra\\u003e\\u003c\\u002fextra\\u003e\",\"legendgroup\":\"\",\"marker\":{\"color\":\"#AB0000\",\"pattern\":{\"shape\":\"\"}},\"name\":\"\",\"offsetgroup\":\"\",\"orientation\":\"v\",\"showlegend\":false,\"text\":[63.3,39.45,33.22,29.07,14.79,3.65,0.54,0.37],\"textposition\":\"auto\",\"x\":[\"Jiu_jitsu_brésilien\",\"Lutte\",\"Kickboxing\",\"Boxe\",\"Muay_thaï\",\"Sambo\",\"Hapkido\",\"Wushu\"],\"xaxis\":\"x\",\"y\":[63.3,39.45,33.22,29.07,14.79,3.65,0.54,0.37],\"yaxis\":\"y\",\"type\":\"bar\"}],                        {\"template\":{\"data\":{\"histogram2dcontour\":[{\"type\":\"histogram2dcontour\",\"colorbar\":{\"outlinewidth\":0,\"ticks\":\"\"},\"colorscale\":[[0.0,\"#0d0887\"],[0.1111111111111111,\"#46039f\"],[0.2222222222222222,\"#7201a8\"],[0.3333333333333333,\"#9c179e\"],[0.4444444444444444,\"#bd3786\"],[0.5555555555555556,\"#d8576b\"],[0.6666666666666666,\"#ed7953\"],[0.7777777777777778,\"#fb9f3a\"],[0.8888888888888888,\"#fdca26\"],[1.0,\"#f0f921\"]]}],\"choropleth\":[{\"type\":\"choropleth\",\"colorbar\":{\"outlinewidth\":0,\"ticks\":\"\"}}],\"histogram2d\":[{\"type\":\"histogram2d\",\"colorbar\":{\"outlinewidth\":0,\"ticks\":\"\"},\"colorscale\":[[0.0,\"#0d0887\"],[0.1111111111111111,\"#46039f\"],[0.2222222222222222,\"#7201a8\"],[0.3333333333333333,\"#9c179e\"],[0.4444444444444444,\"#bd3786\"],[0.5555555555555556,\"#d8576b\"],[0.6666666666666666,\"#ed7953\"],[0.7777777777777778,\"#fb9f3a\"],[0.8888888888888888,\"#fdca26\"],[1.0,\"#f0f921\"]]}],\"heatmap\":[{\"type\":\"heatmap\",\"colorbar\":{\"outlinewidth\":0,\"ticks\":\"\"},\"colorscale\":[[0.0,\"#0d0887\"],[0.1111111111111111,\"#46039f\"],[0.2222222222222222,\"#7201a8\"],[0.3333333333333333,\"#9c179e\"],[0.4444444444444444,\"#bd3786\"],[0.5555555555555556,\"#d8576b\"],[0.6666666666666666,\"#ed7953\"],[0.7777777777777778,\"#fb9f3a\"],[0.8888888888888888,\"#fdca26\"],[1.0,\"#f0f921\"]]}],\"heatmapgl\":[{\"type\":\"heatmapgl\",\"colorbar\":{\"outlinewidth\":0,\"ticks\":\"\"},\"colorscale\":[[0.0,\"#0d0887\"],[0.1111111111111111,\"#46039f\"],[0.2222222222222222,\"#7201a8\"],[0.3333333333333333,\"#9c179e\"],[0.4444444444444444,\"#bd3786\"],[0.5555555555555556,\"#d8576b\"],[0.6666666666666666,\"#ed7953\"],[0.7777777777777778,\"#fb9f3a\"],[0.8888888888888888,\"#fdca26\"],[1.0,\"#f0f921\"]]}],\"contourcarpet\":[{\"type\":\"contourcarpet\",\"colorbar\":{\"outlinewidth\":0,\"ticks\":\"\"}}],\"contour\":[{\"type\":\"contour\",\"colorbar\":{\"outlinewidth\":0,\"ticks\":\"\"},\"colorscale\":[[0.0,\"#0d0887\"],[0.1111111111111111,\"#46039f\"],[0.2222222222222222,\"#7201a8\"],[0.3333333333333333,\"#9c179e\"],[0.4444444444444444,\"#bd3786\"],[0.5555555555555556,\"#d8576b\"],[0.6666666666666666,\"#ed7953\"],[0.7777777777777778,\"#fb9f3a\"],[0.8888888888888888,\"#fdca26\"],[1.0,\"#f0f921\"]]}],\"surface\":[{\"type\":\"surface\",\"colorbar\":{\"outlinewidth\":0,\"ticks\":\"\"},\"colorscale\":[[0.0,\"#0d0887\"],[0.1111111111111111,\"#46039f\"],[0.2222222222222222,\"#7201a8\"],[0.3333333333333333,\"#9c179e\"],[0.4444444444444444,\"#bd3786\"],[0.5555555555555556,\"#d8576b\"],[0.6666666666666666,\"#ed7953\"],[0.7777777777777778,\"#fb9f3a\"],[0.8888888888888888,\"#fdca26\"],[1.0,\"#f0f921\"]]}],\"mesh3d\":[{\"type\":\"mesh3d\",\"colorbar\":{\"outlinewidth\":0,\"ticks\":\"\"}}],\"scatter\":[{\"fillpattern\":{\"fillmode\":\"overlay\",\"size\":10,\"solidity\":0.2},\"type\":\"scatter\"}],\"parcoords\":[{\"type\":\"parcoords\",\"line\":{\"colorbar\":{\"outlinewidth\":0,\"ticks\":\"\"}}}],\"scatterpolargl\":[{\"type\":\"scatterpolargl\",\"marker\":{\"colorbar\":{\"outlinewidth\":0,\"ticks\":\"\"}}}],\"bar\":[{\"error_x\":{\"color\":\"#2a3f5f\"},\"error_y\":{\"color\":\"#2a3f5f\"},\"marker\":{\"line\":{\"color\":\"#E5ECF6\",\"width\":0.5},\"pattern\":{\"fillmode\":\"overlay\",\"size\":10,\"solidity\":0.2}},\"type\":\"bar\"}],\"scattergeo\":[{\"type\":\"scattergeo\",\"marker\":{\"colorbar\":{\"outlinewidth\":0,\"ticks\":\"\"}}}],\"scatterpolar\":[{\"type\":\"scatterpolar\",\"marker\":{\"colorbar\":{\"outlinewidth\":0,\"ticks\":\"\"}}}],\"histogram\":[{\"marker\":{\"pattern\":{\"fillmode\":\"overlay\",\"size\":10,\"solidity\":0.2}},\"type\":\"histogram\"}],\"scattergl\":[{\"type\":\"scattergl\",\"marker\":{\"colorbar\":{\"outlinewidth\":0,\"ticks\":\"\"}}}],\"scatter3d\":[{\"type\":\"scatter3d\",\"line\":{\"colorbar\":{\"outlinewidth\":0,\"ticks\":\"\"}},\"marker\":{\"colorbar\":{\"outlinewidth\":0,\"ticks\":\"\"}}}],\"scattermapbox\":[{\"type\":\"scattermapbox\",\"marker\":{\"colorbar\":{\"outlinewidth\":0,\"ticks\":\"\"}}}],\"scatterternary\":[{\"type\":\"scatterternary\",\"marker\":{\"colorbar\":{\"outlinewidth\":0,\"ticks\":\"\"}}}],\"scattercarpet\":[{\"type\":\"scattercarpet\",\"marker\":{\"colorbar\":{\"outlinewidth\":0,\"ticks\":\"\"}}}],\"carpet\":[{\"aaxis\":{\"endlinecolor\":\"#2a3f5f\",\"gridcolor\":\"white\",\"linecolor\":\"white\",\"minorgridcolor\":\"white\",\"startlinecolor\":\"#2a3f5f\"},\"baxis\":{\"endlinecolor\":\"#2a3f5f\",\"gridcolor\":\"white\",\"linecolor\":\"white\",\"minorgridcolor\":\"white\",\"startlinecolor\":\"#2a3f5f\"},\"type\":\"carpet\"}],\"table\":[{\"cells\":{\"fill\":{\"color\":\"#EBF0F8\"},\"line\":{\"color\":\"white\"}},\"header\":{\"fill\":{\"color\":\"#C8D4E3\"},\"line\":{\"color\":\"white\"}},\"type\":\"table\"}],\"barpolar\":[{\"marker\":{\"line\":{\"color\":\"#E5ECF6\",\"width\":0.5},\"pattern\":{\"fillmode\":\"overlay\",\"size\":10,\"solidity\":0.2}},\"type\":\"barpolar\"}],\"pie\":[{\"automargin\":true,\"type\":\"pie\"}]},\"layout\":{\"autotypenumbers\":\"strict\",\"colorway\":[\"#636efa\",\"#EF553B\",\"#00cc96\",\"#ab63fa\",\"#FFA15A\",\"#19d3f3\",\"#FF6692\",\"#B6E880\",\"#FF97FF\",\"#FECB52\"],\"font\":{\"color\":\"#2a3f5f\"},\"hovermode\":\"closest\",\"hoverlabel\":{\"align\":\"left\"},\"paper_bgcolor\":\"white\",\"plot_bgcolor\":\"#E5ECF6\",\"polar\":{\"bgcolor\":\"#E5ECF6\",\"angularaxis\":{\"gridcolor\":\"white\",\"linecolor\":\"white\",\"ticks\":\"\"},\"radialaxis\":{\"gridcolor\":\"white\",\"linecolor\":\"white\",\"ticks\":\"\"}},\"ternary\":{\"bgcolor\":\"#E5ECF6\",\"aaxis\":{\"gridcolor\":\"white\",\"linecolor\":\"white\",\"ticks\":\"\"},\"baxis\":{\"gridcolor\":\"white\",\"linecolor\":\"white\",\"ticks\":\"\"},\"caxis\":{\"gridcolor\":\"white\",\"linecolor\":\"white\",\"ticks\":\"\"}},\"coloraxis\":{\"colorbar\":{\"outlinewidth\":0,\"ticks\":\"\"}},\"colorscale\":{\"sequential\":[[0.0,\"#0d0887\"],[0.1111111111111111,\"#46039f\"],[0.2222222222222222,\"#7201a8\"],[0.3333333333333333,\"#9c179e\"],[0.4444444444444444,\"#bd3786\"],[0.5555555555555556,\"#d8576b\"],[0.6666666666666666,\"#ed7953\"],[0.7777777777777778,\"#fb9f3a\"],[0.8888888888888888,\"#fdca26\"],[1.0,\"#f0f921\"]],\"sequentialminus\":[[0.0,\"#0d0887\"],[0.1111111111111111,\"#46039f\"],[0.2222222222222222,\"#7201a8\"],[0.3333333333333333,\"#9c179e\"],[0.4444444444444444,\"#bd3786\"],[0.5555555555555556,\"#d8576b\"],[0.6666666666666666,\"#ed7953\"],[0.7777777777777778,\"#fb9f3a\"],[0.8888888888888888,\"#fdca26\"],[1.0,\"#f0f921\"]],\"diverging\":[[0,\"#8e0152\"],[0.1,\"#c51b7d\"],[0.2,\"#de77ae\"],[0.3,\"#f1b6da\"],[0.4,\"#fde0ef\"],[0.5,\"#f7f7f7\"],[0.6,\"#e6f5d0\"],[0.7,\"#b8e186\"],[0.8,\"#7fbc41\"],[0.9,\"#4d9221\"],[1,\"#276419\"]]},\"xaxis\":{\"gridcolor\":\"white\",\"linecolor\":\"white\",\"ticks\":\"\",\"title\":{\"standoff\":15},\"zerolinecolor\":\"white\",\"automargin\":true,\"zerolinewidth\":2},\"yaxis\":{\"gridcolor\":\"white\",\"linecolor\":\"white\",\"ticks\":\"\",\"title\":{\"standoff\":15},\"zerolinecolor\":\"white\",\"automargin\":true,\"zerolinewidth\":2},\"scene\":{\"xaxis\":{\"backgroundcolor\":\"#E5ECF6\",\"gridcolor\":\"white\",\"linecolor\":\"white\",\"showbackground\":true,\"ticks\":\"\",\"zerolinecolor\":\"white\",\"gridwidth\":2},\"yaxis\":{\"backgroundcolor\":\"#E5ECF6\",\"gridcolor\":\"white\",\"linecolor\":\"white\",\"showbackground\":true,\"ticks\":\"\",\"zerolinecolor\":\"white\",\"gridwidth\":2},\"zaxis\":{\"backgroundcolor\":\"#E5ECF6\",\"gridcolor\":\"white\",\"linecolor\":\"white\",\"showbackground\":true,\"ticks\":\"\",\"zerolinecolor\":\"white\",\"gridwidth\":2}},\"shapedefaults\":{\"line\":{\"color\":\"#2a3f5f\"}},\"annotationdefaults\":{\"arrowcolor\":\"#2a3f5f\",\"arrowhead\":0,\"arrowwidth\":1},\"geo\":{\"bgcolor\":\"white\",\"landcolor\":\"#E5ECF6\",\"subunitcolor\":\"white\",\"showland\":true,\"showlakes\":true,\"lakecolor\":\"white\"},\"title\":{\"x\":0.05},\"mapbox\":{\"style\":\"light\"}}},\"xaxis\":{\"anchor\":\"y\",\"domain\":[0.0,1.0],\"title\":{\"text\":\"Mode\"}},\"yaxis\":{\"anchor\":\"x\",\"domain\":[0.0,1.0],\"title\":{\"text\":\"%Victoire\"}},\"legend\":{\"tracegroupgap\":0},\"margin\":{\"t\":60},\"barmode\":\"relative\",\"font\":{\"color\":\"white\"},\"showlegend\":false,\"plot_bgcolor\":\"#191919\",\"paper_bgcolor\":\"black\",\"title\":{\"text\":\"Pourcentage de Victoire par technique de combat\"}},                        {\"responsive\": true}                    ).then(function(){\n",
       "                            \n",
       "var gd = document.getElementById('6ab96c7f-593c-43f5-ab2d-c4319c091293');\n",
       "var x = new MutationObserver(function (mutations, observer) {{\n",
       "        var display = window.getComputedStyle(gd).display;\n",
       "        if (!display || display === 'none') {{\n",
       "            console.log([gd, 'removed!']);\n",
       "            Plotly.purge(gd);\n",
       "            observer.disconnect();\n",
       "        }}\n",
       "}});\n",
       "\n",
       "// Listen for the removal of the full notebook cells\n",
       "var notebookContainer = gd.closest('#notebook-container');\n",
       "if (notebookContainer) {{\n",
       "    x.observe(notebookContainer, {childList: true});\n",
       "}}\n",
       "\n",
       "// Listen for the clearing of the current output cell\n",
       "var outputEl = gd.closest('.output');\n",
       "if (outputEl) {{\n",
       "    x.observe(outputEl, {childList: true});\n",
       "}}\n",
       "\n",
       "                        })                };                });            </script>        </div>"
      ]
     },
     "metadata": {},
     "output_type": "display_data"
    }
   ],
   "source": [
    "fig =px.bar(df_mode_percent, x=\"Mode\", y=\"%Victoire\", text='%Victoire')\n",
    "fig.update_layout(showlegend=False,\n",
    "                  plot_bgcolor='#191919',\n",
    "                  paper_bgcolor='black',\n",
    "                  font=dict(color='white'),title='Pourcentage de Victoire par technique de combat')\n",
    "fig.update_traces(marker_color='#AB0000')\n",
    "\n",
    "fig.show()"
   ]
  },
  {
   "cell_type": "code",
   "execution_count": 633,
   "id": "cdd4071f",
   "metadata": {
    "scrolled": true
   },
   "outputs": [
    {
     "data": {
      "text/plain": [
       "2736"
      ]
     },
     "execution_count": 633,
     "metadata": {},
     "output_type": "execute_result"
    }
   ],
   "source": [
    "(df_technique[\"Boxe\"] == 1).sum()"
   ]
  },
  {
   "cell_type": "code",
   "execution_count": 636,
   "id": "37be9cef",
   "metadata": {},
   "outputs": [
    {
     "data": {
      "text/plain": [
       "7570"
      ]
     },
     "execution_count": 636,
     "metadata": {},
     "output_type": "execute_result"
    }
   ],
   "source": [
    "(df_technique[\"Boxe\"] == 0).sum()"
   ]
  },
  {
   "cell_type": "code",
   "execution_count": 627,
   "id": "7f766980",
   "metadata": {},
   "outputs": [
    {
     "data": {
      "text/plain": [
       "10306"
      ]
     },
     "execution_count": 627,
     "metadata": {},
     "output_type": "execute_result"
    }
   ],
   "source": [
    "len(df_technique)"
   ]
  }
 ],
 "metadata": {
  "kernelspec": {
   "display_name": "Python 3 (ipykernel)",
   "language": "python",
   "name": "python3"
  },
  "language_info": {
   "codemirror_mode": {
    "name": "ipython",
    "version": 3
   },
   "file_extension": ".py",
   "mimetype": "text/x-python",
   "name": "python",
   "nbconvert_exporter": "python",
   "pygments_lexer": "ipython3",
   "version": "3.11.9"
  },
  "toc": {
   "base_numbering": 1,
   "nav_menu": {},
   "number_sections": true,
   "sideBar": true,
   "skip_h1_title": false,
   "title_cell": "Table of Contents",
   "title_sidebar": "Contents",
   "toc_cell": false,
   "toc_position": {
    "height": "calc(100% - 180px)",
    "left": "10px",
    "top": "150px",
    "width": "320px"
   },
   "toc_section_display": true,
   "toc_window_display": true
  }
 },
 "nbformat": 4,
 "nbformat_minor": 5
}
